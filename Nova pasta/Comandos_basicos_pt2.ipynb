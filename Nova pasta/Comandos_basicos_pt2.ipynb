{
 "cells": [
  {
   "cell_type": "markdown",
   "id": "f77e6aec-1e37-40ee-b71e-ad4de1f115ca",
   "metadata": {},
   "source": [
    "# **exercicios ~**"
   ]
  },
  {
   "cell_type": "code",
   "execution_count": 1,
   "id": "2be873c0-6e2d-4968-b71d-6f1e207f0e51",
   "metadata": {},
   "outputs": [],
   "source": [
    "from numpy import *\r\n",
    "import numpy as np\r\n",
    "import math"
   ]
  },
  {
   "cell_type": "markdown",
   "id": "777d7112-f065-4da0-8ebb-8a7416863e7a",
   "metadata": {},
   "source": [
    "**exercicio 2.1 trabalhando com for**"
   ]
  },
  {
   "cell_type": "code",
   "execution_count": 2,
   "id": "77b7504e-fde4-4002-b510-8f54199c660b",
   "metadata": {},
   "outputs": [
    {
     "name": "stdout",
     "output_type": "stream",
     "text": [
      "a) inteiros menores que 10: [1, 2, 3, 4, 5, 6, 7, 8, 9]\n",
      "b) pares menores que 20: [2, 4, 6, 8, 10, 12, 14, 16, 18]\n",
      "a) multiplos de 5 menores que 50, decrescente: [50, 45, 40, 35, 30, 25, 20, 15, 10]\n"
     ]
    }
   ],
   "source": [
    "x = list(range(1, 10))\n",
    "y = list(range(2, 20, 2))\n",
    "z = list(range(50, 5, -5))\n",
    "\n",
    "print(f'a) inteiros menores que 10: {x}')\n",
    "print(f'b) pares menores que 20: {y}')\n",
    "print(f'a) multiplos de 5 menores que 50, decrescente: {z}')"
   ]
  },
  {
   "cell_type": "markdown",
   "id": "cceb1a7c-0ea4-404a-bfce-675d8a24f1f3",
   "metadata": {},
   "source": [
    "**exercicio 2.2 soma dos inversos**"
   ]
  },
  {
   "cell_type": "code",
   "execution_count": 3,
   "id": "820624ff-071e-4505-b395-13341b2126c7",
   "metadata": {},
   "outputs": [
    {
     "name": "stdout",
     "output_type": "stream",
     "text": [
      "s = 5.187\n"
     ]
    }
   ],
   "source": [
    "k = 1\n",
    "s = 0\n",
    "\n",
    "for k in range(1, 101):\n",
    "  s += 1/k\n",
    "\n",
    "print(f's = {s:.3f}')"
   ]
  },
  {
   "cell_type": "markdown",
   "id": "8abd1d62-9b3b-4225-a956-fe9cb9863a2c",
   "metadata": {},
   "source": [
    "**exercicio 2.3 criando vetores e matrizes** *"
   ]
  },
  {
   "cell_type": "code",
   "execution_count": 13,
   "id": "d38a7593-9a6b-4296-96f0-a32fc4e73bdb",
   "metadata": {},
   "outputs": [
    {
     "name": "stdout",
     "output_type": "stream",
     "text": [
      "x: [0.   0.01 0.02 0.03 0.04 0.05 0.06 0.07 0.08 0.09 0.1  0.11 0.12 0.13\n",
      " 0.14 0.15 0.16 0.17 0.18 0.19 0.2  0.21 0.22 0.23 0.24 0.25 0.26 0.27\n",
      " 0.28 0.29 0.3  0.31 0.32 0.33 0.34 0.35 0.36 0.37 0.38 0.39 0.4  0.41\n",
      " 0.42 0.43 0.44 0.45 0.46 0.47 0.48 0.49 0.5  0.51 0.52 0.53 0.54 0.55\n",
      " 0.56 0.57 0.58 0.59 0.6  0.61 0.62 0.63 0.64 0.65 0.66 0.67 0.68 0.69\n",
      " 0.7  0.71 0.72 0.73 0.74 0.75 0.76 0.77 0.78 0.79 0.8  0.81 0.82 0.83\n",
      " 0.84 0.85 0.86 0.87 0.88 0.89 0.9  0.91 0.92 0.93 0.94 0.95 0.96 0.97\n",
      " 0.98 0.99]\n",
      "\n",
      "y_zeros: \n",
      "[[1 2 3]\n",
      " [4 5 6]\n",
      " [7 8 9]]\n",
      "\n",
      "y_array: \n",
      "[[1 2 3]\n",
      " [4 5 6]\n",
      " [7 8 9]]\n",
      "\n",
      "y_load: \n",
      "[[1 2 3]\n",
      " [4 5 6]\n",
      " [7 8 9]]\n",
      "\n"
     ]
    }
   ],
   "source": [
    "x = arange(0, 1, 0.01)\n",
    "\n",
    "\n",
    "y_zeros = zeros([3, 3], int)\n",
    "\n",
    "count = 1\n",
    "\n",
    "for i in range(3):\n",
    "  for j in range(3):\n",
    "    y_zeros[i, j] = count\n",
    "    count += 1\n",
    "\n",
    "\n",
    "y_array = array([[1,2,3],[4,5,6],[7,8,9]], int)\n",
    "\n",
    "y_load = loadtxt('matrix.txt', int)\n",
    "\n",
    "print(f'x: {x}\\n')\n",
    "print(f'y_zeros: \\n{y_zeros}\\n')\n",
    "print(f'y_array: \\n{y_array}\\n')\n",
    "print(f'y_load: \\n{y_load}\\n')"
   ]
  },
  {
   "cell_type": "markdown",
   "id": "671dbcf5-0a30-436a-b32b-46ab0565ad09",
   "metadata": {},
   "source": [
    "**exercicio 2.4 suponha vetores a e b**"
   ]
  },
  {
   "cell_type": "code",
   "execution_count": 14,
   "id": "105c8b3b-62f3-4a1f-87f1-a7228d91f2f7",
   "metadata": {},
   "outputs": [
    {
     "name": "stdout",
     "output_type": "stream",
     "text": [
      "a) acredito que imprima 3, 3, 3, 3: [3. 3. 3. 3.]\n",
      "a) acredito que imprima 1, 1.33, 1.5, 1.6: [1.         1.33333333 1.5        1.6       ]\n",
      "a) acredito que imprima 1, 0.5, 0.33, 0.25: [1.         0.5        0.33333333 0.25      ]\n"
     ]
    }
   ],
   "source": [
    "a = array([1, 2, 3, 4], int)\n",
    "b = array([2, 4, 6, 8], int)\n",
    "\n",
    "print(f'a) acredito que imprima 3, 3, 3, 3: {b/a+1}')\n",
    "print(f'a) acredito que imprima 1, 1.33, 1.5, 1.6: {b/(a+1)}')\n",
    "print(f'a) acredito que imprima 1, 0.5, 0.33, 0.25: {1/a}')"
   ]
  },
  {
   "cell_type": "markdown",
   "id": "0b4b93ce-445e-43a5-a80e-6cd3645bf224",
   "metadata": {},
   "source": [
    "**exercicio 2.5 operacoes com matrizes - parte 1**"
   ]
  },
  {
   "cell_type": "code",
   "execution_count": 15,
   "id": "ae0b45c4-22bb-42a6-8e30-3a0613d27691",
   "metadata": {},
   "outputs": [
    {
     "name": "stdout",
     "output_type": "stream",
     "text": [
      "[[9 8 7]\n",
      " [6 5 4]\n",
      " [3 2 1]] \n",
      "\n",
      "a) 2B:\n",
      " [[18 16 14]\n",
      " [12 10  8]\n",
      " [ 6  4  2]] \n",
      "\n",
      "b) A+B:\n",
      " [[10 10 10]\n",
      " [10 10 10]\n",
      " [10 10 10]] \n",
      "\n",
      "c) AB:\n",
      " [[ 9 16 21]\n",
      " [24 25 24]\n",
      " [21 16  9]] \n",
      "\n",
      "usando dot para AB:\n",
      " [[ 30  24  18]\n",
      " [ 84  69  54]\n",
      " [138 114  90]] \n",
      "\n"
     ]
    }
   ],
   "source": [
    "A = array([[1,2,3],[4,5,6],[7,8,9]], int)\n",
    "B = array([[9,8,7], [6,5,4], [3,2,1]], int)\n",
    "C = dot(A,B)\n",
    "\n",
    "print(f'{B} \\n')\n",
    "print(f'a) 2B:\\n {2*B} \\n')\n",
    "print(f'b) A+B:\\n {A+B} \\n')\n",
    "print(f'c) AB:\\n {A*B} \\n') # ressultado fora do esperado\n",
    "\n",
    "print(f'usando dot para AB:\\n {C} \\n') # resultado esperado"
   ]
  },
  {
   "cell_type": "markdown",
   "id": "858392ef-4989-4821-a942-c244a7dc2608",
   "metadata": {},
   "source": [
    "**exercicio 2.6 operacoes com matrizes - parte 2**"
   ]
  },
  {
   "cell_type": "code",
   "execution_count": 16,
   "id": "da7c420d-6803-443c-b940-72a878cf8213",
   "metadata": {},
   "outputs": [
    {
     "name": "stdout",
     "output_type": "stream",
     "text": [
      "a) maior: 9 e menor: 1\n",
      "\n",
      "b) valor medio: 5.0\n",
      "\n",
      "c) matriz C:\n",
      " [[3.         2.82842712 2.64575131]\n",
      " [2.44948974 2.23606798 2.        ]\n",
      " [1.73205081 1.41421356 1.        ]]\n",
      "\n"
     ]
    }
   ],
   "source": [
    "B = array([[9,8,7], [6,5,4], [3,2,1]], int)\n",
    "\n",
    "maior = np.max(B)\n",
    "menor = np.min(B)\n",
    "soma = sum(B)\n",
    "elements = size(B)\n",
    "\n",
    "print(f'a) maior: {maior} e menor: {menor}\\n')\n",
    "print(f'b) valor medio: {soma/elements}\\n')\n",
    "print(f'c) matriz C:\\n {sqrt(B)}\\n')"
   ]
  },
  {
   "cell_type": "markdown",
   "id": "75bceab7-d134-4669-9e82-e4de7197e510",
   "metadata": {},
   "source": [
    "**exercicio 2.7 copiando vetores**"
   ]
  },
  {
   "cell_type": "code",
   "execution_count": 17,
   "id": "abe3b672-97e0-4ba0-bca4-98da040c50ff",
   "metadata": {},
   "outputs": [
    {
     "name": "stdout",
     "output_type": "stream",
     "text": [
      "a:\n",
      " [2 1] \n",
      "b:\n",
      " [2 1]\n"
     ]
    }
   ],
   "source": [
    "a = array([1,1], int)\n",
    "b = a\n",
    "\n",
    "a[0] = 2\n",
    "\n",
    "print(f'a:\\n {a} \\nb:\\n {b}')\n",
    "\n",
    "# esperava que b = [1,1]"
   ]
  },
  {
   "cell_type": "code",
   "execution_count": 18,
   "id": "488a5faf-e72d-4414-bf09-a850ae435492",
   "metadata": {},
   "outputs": [
    {
     "name": "stdout",
     "output_type": "stream",
     "text": [
      "a:\n",
      " [2 1] \n",
      "b:\n",
      " [1 1]\n"
     ]
    }
   ],
   "source": [
    "a = array([1,1], int)\n",
    "b = copy(a)\n",
    "\n",
    "a[0] = 2\n",
    "\n",
    "print(f'a:\\n {a} \\nb:\\n {b}')\n",
    "\n",
    "# agora b saiu como esperado"
   ]
  },
  {
   "cell_type": "markdown",
   "id": "2dd124a3-b898-4a02-af9e-da6f780d5639",
   "metadata": {},
   "source": [
    "**exercicio 2.8 fatiamento**"
   ]
  },
  {
   "cell_type": "code",
   "execution_count": 19,
   "id": "f4a3180e-e5f7-4ec5-a592-ac61d43273d5",
   "metadata": {},
   "outputs": [
    {
     "name": "stdout",
     "output_type": "stream",
     "text": [
      "D:\n",
      " [[1 2 3]\n",
      " [6 4 2]\n",
      " [3 6 9]]\n",
      "\n",
      "a) a:\n",
      " [1 2 3]\n",
      "\n",
      "b) b:\n",
      " [2 4 6]\n",
      "\n",
      "c) c:\n",
      " [6 9]\n",
      "\n"
     ]
    }
   ],
   "source": [
    "D = array([[1,2,3],[6,4,2],[3,6,9]], int)\n",
    "\n",
    "print(f'D:\\n {D}\\n')\n",
    "\n",
    "a = D[0,:]\n",
    "b = D[:,1]\n",
    "c = D[2, 1:3]\n",
    "\n",
    "print(f'a) a:\\n {a}\\n')\n",
    "print(f'b) b:\\n {b}\\n')\n",
    "print(f'c) c:\\n {c}\\n')"
   ]
  },
  {
   "cell_type": "markdown",
   "id": "47860e67-4548-40af-a548-4e0026fa2fa5",
   "metadata": {},
   "source": [
    "**exercicio 2.9 fatorial**"
   ]
  },
  {
   "cell_type": "code",
   "execution_count": 20,
   "id": "6c580d90-3f59-4549-ad47-1e0cec5a66d2",
   "metadata": {},
   "outputs": [
    {
     "name": "stdin",
     "output_type": "stream",
     "text": [
      "digite o numero para calcular o fatorial:  5\n"
     ]
    },
    {
     "name": "stdout",
     "output_type": "stream",
     "text": [
      "\n",
      "o fatorial de 5 eh: 120\n"
     ]
    }
   ],
   "source": [
    "def fatorial(n):\n",
    "  if(n>1):\n",
    "    return n*fatorial(n-1)\n",
    "  else:\n",
    "    return n\n",
    "\n",
    "n = int(input('digite o numero para calcular o fatorial: ')) #4\n",
    "\n",
    "res = fatorial(n)\n",
    "\n",
    "print(f'\\no fatorial de {n} eh: {res}')"
   ]
  },
  {
   "cell_type": "markdown",
   "id": "0ffcfd1c-1a60-4c75-8531-d4b37e69f52b",
   "metadata": {},
   "source": [
    "**exercicio 2.10 mapeando funcoes definidas pelo usuario**"
   ]
  },
  {
   "cell_type": "code",
   "execution_count": 21,
   "id": "edfccf11-6a0f-45fb-835f-179dbef07875",
   "metadata": {},
   "outputs": [
    {
     "name": "stdout",
     "output_type": "stream",
     "text": [
      "vetor b: [  2   6  24 120]\n"
     ]
    }
   ],
   "source": [
    "def fatorial(n):\n",
    "  if(n>1):\n",
    "    return n*fatorial(n-1)\n",
    "  else:\n",
    "    return n\n",
    "\n",
    "a = array([2,3,4,5], int)\n",
    "\n",
    "b = array(list(map(fatorial, list(a))))\n",
    "\n",
    "print(f'vetor b: {b}')"
   ]
  },
  {
   "cell_type": "markdown",
   "id": "6c9f6fbe-c1b3-4cf5-820a-4dc2c5e2b404",
   "metadata": {},
   "source": [
    "# **problemas opcionais ~**"
   ]
  },
  {
   "cell_type": "markdown",
   "id": "8f8283e9-ec7a-4969-b626-fe5414265233",
   "metadata": {},
   "source": [
    "**exercicio 2.11 media aritmetica e geometrica**"
   ]
  },
  {
   "cell_type": "code",
   "execution_count": 22,
   "id": "44566bbf-da6a-4b16-bcbd-62eec68765d2",
   "metadata": {},
   "outputs": [
    {
     "name": "stdout",
     "output_type": "stream",
     "text": [
      "media aritmetica: 210.00 \n",
      "media geometrica: 36315.50\n"
     ]
    }
   ],
   "source": [
    "lst = loadtxt('values.txt', float)\n",
    "\n",
    "media_art = sum(lst)/size(list)\n",
    "\n",
    "media_geom = exp(sum(lst)/size(lst))\n",
    "\n",
    "print(f'media aritmetica: {media_art:.2f} \\nmedia geometrica: {media_geom:.2f}')"
   ]
  },
  {
   "cell_type": "markdown",
   "id": "1c2dfd94-51ae-4db5-b6e0-7a7b56dcc437",
   "metadata": {},
   "source": [
    "**exercicio 2.12 numeros primos**"
   ]
  },
  {
   "cell_type": "code",
   "execution_count": 23,
   "id": "bf0c7279-f18a-47bc-8cff-db4c9f489314",
   "metadata": {},
   "outputs": [],
   "source": [
    "def primos(n):                          # funcao que verifica se é primo\n",
    "  cont = 0\n",
    "  for i in range(1, n+1):\n",
    "    if n % i == 0:\n",
    "      cont += 1\n",
    "\n",
    "  if cont == 2:\n",
    "    return True\n",
    "  else:\n",
    "    return False\n",
    "\n",
    "def addFatores(n, i):                  # função que add fatores primos à lista 'fatores'\n",
    "  if n%ePrimo[i] == 0:\n",
    "    if n/ePrimo[i] != 1:\n",
    "      fatores.append(ePrimo[i])\n",
    "      n = n/ePrimo[i]\n",
    "      addFatores(n, i)\n",
    "\n",
    "    else:\n",
    "      fatores.append(ePrimo[i])\n",
    "      return fatores\n",
    "\n",
    "  else:\n",
    "    addFatores(n, i+1)"
   ]
  },
  {
   "cell_type": "code",
   "execution_count": 24,
   "id": "7808a410-cc0a-4476-8c73-84677a182569",
   "metadata": {},
   "outputs": [
    {
     "name": "stdin",
     "output_type": "stream",
     "text": [
      "digite um numero:  200\n"
     ]
    },
    {
     "name": "stdout",
     "output_type": "stream",
     "text": [
      "fatores primos: [2, 2, 2, 5, 5]\n"
     ]
    }
   ],
   "source": [
    "n = int(input('digite um numero: '))\n",
    "\n",
    "ePrimo = []\n",
    "\n",
    "for i in range(2, n+1):\n",
    "  if primos(i) == True:               # se i é primo, add à lista de primos 'ePrimo'\n",
    "    ePrimo.append(i)\n",
    "\n",
    "fatores = []\n",
    "i = 0\n",
    "addFatores(n, i)\n",
    "\n",
    "print(f'fatores primos: {fatores}')   # imprime a lista de fatores primos 'fatores'"
   ]
  },
  {
   "cell_type": "markdown",
   "id": "12b3f5be-df1c-4094-8e84-ae312d15bfc8",
   "metadata": {},
   "source": [
    "**exercicio 2.13 recorrência**"
   ]
  },
  {
   "cell_type": "code",
   "execution_count": 25,
   "id": "62fbc05c-883c-417e-97b5-6353670c728c",
   "metadata": {},
   "outputs": [
    {
     "name": "stdin",
     "output_type": "stream",
     "text": [
      "digite o valor de n:  7\n"
     ]
    },
    {
     "name": "stdout",
     "output_type": "stream",
     "text": [
      "valor de Cn: 132.0\n"
     ]
    }
   ],
   "source": [
    "def recursao(n):\n",
    "  if n == 0:\n",
    "    return 1\n",
    "  elif n > 0:\n",
    "    x = recursao(n-1)*(4*n-2)/(n+1)\n",
    "    return x\n",
    "\n",
    "n = int(input('digite o valor de n: '))-1\n",
    "\n",
    "print(f'valor de Cn: {recursao(n)}')"
   ]
  },
  {
   "cell_type": "code",
   "execution_count": null,
   "id": "d49e3a78-df47-45af-ad2a-78176d0d0843",
   "metadata": {},
   "outputs": [],
   "source": []
  }
 ],
 "metadata": {
  "kernelspec": {
   "display_name": "Python 3 (ipykernel)",
   "language": "python",
   "name": "python3"
  },
  "language_info": {
   "codemirror_mode": {
    "name": "ipython",
    "version": 3
   },
   "file_extension": ".py",
   "mimetype": "text/x-python",
   "name": "python",
   "nbconvert_exporter": "python",
   "pygments_lexer": "ipython3",
   "version": "3.11.7"
  }
 },
 "nbformat": 4,
 "nbformat_minor": 5
}
