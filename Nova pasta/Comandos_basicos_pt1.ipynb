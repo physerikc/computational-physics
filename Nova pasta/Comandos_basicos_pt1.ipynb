{
 "cells": [
  {
   "cell_type": "markdown",
   "id": "4d2e23d0-7275-40d0-9299-1319337e7565",
   "metadata": {},
   "source": [
    "# **exercicios ~**"
   ]
  },
  {
   "cell_type": "code",
   "execution_count": 1,
   "id": "e856e744-738a-4936-9eb1-71506ce37c82",
   "metadata": {},
   "outputs": [],
   "source": [
    "import math\n",
    "from math import log"
   ]
  },
  {
   "cell_type": "markdown",
   "id": "5bf290cb-1d12-4e61-9ada-09b155a9d949",
   "metadata": {},
   "source": [
    "**exercicio 2.1 operacoes basicas**"
   ]
  },
  {
   "cell_type": "code",
   "execution_count": 2,
   "id": "198ac655-8f23-43f0-8b55-4935fd806395",
   "metadata": {},
   "outputs": [
    {
     "name": "stdin",
     "output_type": "stream",
     "text": [
      "digite o primeiro numero:  4\n",
      "digite o segundo numero:  3\n"
     ]
    },
    {
     "name": "stdout",
     "output_type": "stream",
     "text": [
      "produto: 12.0, parte inteira: 1.0, resto: 1.0, elevado: 64.0\n"
     ]
    }
   ],
   "source": [
    "x = float(input('digite o primeiro numero: '))\n",
    "y = float(input('digite o segundo numero: '))\n",
    "\n",
    "prod = x*y\n",
    "inteira = x//y\n",
    "rest = x%y\n",
    "elev = x**y\n",
    "\n",
    "print(f'produto: {prod}, parte inteira: {inteira}, resto: {rest}, elevado: {elev}', sep='\\n')"
   ]
  },
  {
   "cell_type": "markdown",
   "id": "853fc76a-d58a-4f39-9917-25821fc74877",
   "metadata": {},
   "source": [
    "**exercicio 2.2 uma bola que cai de uma torre**"
   ]
  },
  {
   "cell_type": "code",
   "execution_count": 3,
   "id": "f877cc21-ab1a-4b63-b54d-1a4cc413eba2",
   "metadata": {},
   "outputs": [
    {
     "name": "stdin",
     "output_type": "stream",
     "text": [
      "digite a altura da torre em metros:  40\n",
      "digite o tempo de queda, em segundos:  2\n"
     ]
    },
    {
     "name": "stdout",
     "output_type": "stream",
     "text": [
      "a altura atual da bola é de 20.38 metros\n"
     ]
    }
   ],
   "source": [
    "h = float(input('digite a altura da torre em metros: '))\n",
    "t = float(input('digite o tempo de queda, em segundos: '))\n",
    "g = 9.81\n",
    "\n",
    "y = h - (g/2)*(t**2)\n",
    "\n",
    "print(f'a altura atual da bola é de {y} metros')"
   ]
  },
  {
   "cell_type": "markdown",
   "id": "df057021-5f19-481c-b52b-f102d7fe33b8",
   "metadata": {},
   "source": [
    "**exercicio 2.3 convertendo as coordenadas polares para cartesianas**"
   ]
  },
  {
   "cell_type": "code",
   "execution_count": 4,
   "id": "20578873-c2b1-46ac-8881-048ac6c04647",
   "metadata": {},
   "outputs": [
    {
     "name": "stdin",
     "output_type": "stream",
     "text": [
      "digite o valor de r:  30\n",
      "digite o valor do angulo em graus:  30\n"
     ]
    },
    {
     "name": "stdout",
     "output_type": "stream",
     "text": [
      "o valor de x é 25.98076211353316 e o valor de y é 14.999999999999998\n"
     ]
    }
   ],
   "source": [
    "r = float(input('digite o valor de r: '))\n",
    "theta_ang = float(input('digite o valor do angulo em graus: '))\n",
    "\n",
    "theta_rad = math.pi*theta_ang/180\n",
    "\n",
    "x = r*math.cos(theta_rad)\n",
    "y = r*math.sin(theta_rad)\n",
    "\n",
    "print(f'o valor de x é {x} e o valor de y é {y}')"
   ]
  },
  {
   "cell_type": "markdown",
   "id": "872fb540-c833-49c4-9ee7-9ce16dbf04ee",
   "metadata": {},
   "source": [
    "**exercicio 2.4 determinando se um numero é par ou impar**"
   ]
  },
  {
   "cell_type": "code",
   "execution_count": 5,
   "id": "81a24869-a873-4be1-a945-7b3c8f5e4c45",
   "metadata": {},
   "outputs": [
    {
     "name": "stdin",
     "output_type": "stream",
     "text": [
      "digite um numero:  8\n"
     ]
    },
    {
     "name": "stdout",
     "output_type": "stream",
     "text": [
      "o numero é par\n"
     ]
    }
   ],
   "source": [
    "num = int(input('digite um numero: '))\n",
    "\n",
    "if(num%2==0):\n",
    "  print('o numero é par')\n",
    "else:\n",
    "  print('o numero é impar')"
   ]
  },
  {
   "cell_type": "markdown",
   "id": "dca3c70b-21d3-4f02-b1fd-aee8141fe15f",
   "metadata": {},
   "source": [
    "**exercicio 2.5 serie de fibonacci**"
   ]
  },
  {
   "cell_type": "code",
   "execution_count": 6,
   "id": "da5700c7-ce32-41fa-a374-22fd714c011a",
   "metadata": {},
   "outputs": [
    {
     "name": "stdout",
     "output_type": "stream",
     "text": [
      "1\n",
      "1\n",
      "2\n",
      "3\n",
      "5\n",
      "8\n",
      "13\n",
      "21\n",
      "34\n",
      "55\n",
      "89\n",
      "144\n",
      "233\n",
      "377\n",
      "610\n",
      "987\n"
     ]
    }
   ],
   "source": [
    "anterior = 1\n",
    "num = 1\n",
    "\n",
    "print(anterior)\n",
    "\n",
    "while(num < 1000):\n",
    "  print(num)\n",
    "\n",
    "  provisorio = anterior\n",
    "  anterior = num\n",
    "  num += provisorio"
   ]
  },
  {
   "cell_type": "markdown",
   "id": "636f7494-0b27-4968-b530-d520783e8c5c",
   "metadata": {},
   "source": [
    "**exercicio 2.6 trabalhando com lista**"
   ]
  },
  {
   "cell_type": "code",
   "execution_count": 7,
   "id": "66cf13ec-8a0e-461e-b01a-f7bc7687f19f",
   "metadata": {},
   "outputs": [
    {
     "name": "stdout",
     "output_type": "stream",
     "text": [
      "a) soma: 100 e numero de elementos: 10 \n",
      "\n",
      "b) maior: 19 e menor: 1 \n",
      "\n",
      "c) valor medio dos elementos: 10.0 \n",
      "\n",
      "d) lista: [0.0, 1.0986122886681098, 1.6094379124341003, 1.9459101490553132, 2.1972245773362196, 2.3978952727983707, 2.5649493574615367, 2.70805020110221, 2.833213344056216, 2.9444389791664403]\n"
     ]
    }
   ],
   "source": [
    "lista = range(1, 20, 2)\n",
    "\n",
    "print(f'a) soma: {sum(lista)} e numero de elementos: {len(lista)} \\n')\n",
    "print(f'b) maior: {max(lista)} e menor: {min(lista)} \\n')\n",
    "print(f'c) valor medio dos elementos: {sum(lista)/len(lista)} \\n')\n",
    "\n",
    "lista_log = list(map(log, lista))\n",
    "\n",
    "print(f'd) lista: {lista_log}')"
   ]
  },
  {
   "cell_type": "markdown",
   "id": "e296071b-d115-419d-a70f-af22ff877c63",
   "metadata": {},
   "source": [
    "# **problemas opcionais ~**"
   ]
  },
  {
   "cell_type": "markdown",
   "id": "e3043ad7-da46-4efc-8105-400516fd76ad",
   "metadata": {},
   "source": [
    "**exercicio 2.7 altitude de um satélite**"
   ]
  },
  {
   "cell_type": "code",
   "execution_count": 8,
   "id": "16895d0d-b7e3-4832-8d7a-70378f782aea",
   "metadata": {},
   "outputs": [
    {
     "name": "stdin",
     "output_type": "stream",
     "text": [
      "digite o valor do periodo T em dias:  1\n"
     ]
    },
    {
     "name": "stdout",
     "output_type": "stream",
     "text": [
      "b) valor de h: 35855.91 Km \n",
      "c) h em 90min :279.32 Km e h em 45min:-2181.56 Km\n"
     ]
    }
   ],
   "source": [
    "G = 6.67e-20   # Km3/ Kg s2\n",
    "R = 6371       # Km\n",
    "M = 5.97e24    # Kg\n",
    "\n",
    "T_dias = float(input('digite o valor do periodo T em dias: '))\n",
    "T_sec = T_dias*24*3600\n",
    "\n",
    "T90 = 90*60\n",
    "T45 = T90/2\n",
    "\n",
    "h = (((G*M*T_sec**2)/(4*math.pi**2))**(1/3))-R\n",
    "h90 = (((G*M*T90**2)/(4*math.pi**2))**(1/3))-R\n",
    "h45 = (((G*M*T45**2)/(4*math.pi**2))**(1/3))-R\n",
    "\n",
    "print(f'b) valor de h: {h:.2f} Km \\nc) h em 90min :{h90:.2f} Km e h em 45min:{h45:.2f} Km')"
   ]
  },
  {
   "cell_type": "code",
   "execution_count": 9,
   "id": "747eac7a-3e88-4734-aa1d-8e28a55cebee",
   "metadata": {},
   "outputs": [
    {
     "name": "stdout",
     "output_type": "stream",
     "text": [
      "c) para 24h, temos h: 35,855.91 Km, \n",
      "para 90min h: 279.32 Km e \n",
      "para 45min h: -2,181.56 Km\n"
     ]
    }
   ],
   "source": [
    "Tdia = 24*60*60\n",
    "T90 = 90*60\n",
    "T45 = 45*60\n",
    "Tdia_sideral = 23.93*60*60\n",
    "\n",
    "hdia = ((G*M*Tdia**2)/(4*math.pi**2))**(1/3)-R\n",
    "h90 = ((G*M*T90**2)/(4*math.pi**2))**(1/3)-R\n",
    "h45 = ((G*M*T45**2)/(4*math.pi**2))**(1/3)-R\n",
    "hdia_sideral = ((G*M*Tdia_sideral**2)/(4*math.pi**2))**(1/3)-R\n",
    "\n",
    "print(f'c) para 24h, temos h: {hdia:,.2f} Km, \\npara 90min h: {h90:,.2f} Km e \\npara 45min h: {h45:,.2f} Km')"
   ]
  },
  {
   "cell_type": "markdown",
   "id": "e1c24834-ec1b-4569-b21e-f8242c92f3d9",
   "metadata": {},
   "source": [
    "**exercicio 2.8 orbitas planetarias**"
   ]
  },
  {
   "cell_type": "code",
   "execution_count": 10,
   "id": "bce947c4-b640-4278-a470-9d03e0059bae",
   "metadata": {},
   "outputs": [
    {
     "name": "stdout",
     "output_type": "stream",
     "text": [
      "l2: 5.28e+12 metros,\n",
      "v2: 0.91 Km/s,\n",
      "T: 76.03 anos e\n",
      "e: 0.9673\n"
     ]
    }
   ],
   "source": [
    "G = 6.6738e-11   # m3/ Kg s2\n",
    "M = 1.9891e30    # Kg\n",
    "\n",
    "# Terra\n",
    "# v1 = 3.0287e4\n",
    "# l1 = 1.4710e11\n",
    "\n",
    "# Cometa Halley\n",
    "v1 = 5.4529e4\n",
    "l1 = 8.7830e10\n",
    "\n",
    "a = 1\n",
    "b = -(2*G*M)/(v1*l1)\n",
    "c = -(v1**2-(2*G*M)/(l1))\n",
    "\n",
    "v2_1 = (- b + math.sqrt(b**2-(4*a*c)))/(2*a)\n",
    "v2_2 = (- b - math.sqrt(b**2-(4*a*c)))/(2*a)\n",
    "\n",
    "if(v2_1<v2_2):\n",
    "  v2 = v2_1\n",
    "else:\n",
    "  v2 = v2_2\n",
    "\n",
    "l2 = (l1*v1)/v2\n",
    "a = (1/2)*(l1+l2)\n",
    "b = math.sqrt(l1*l2)\n",
    "\n",
    "T = (2*math.pi*a*b)/(l1*v1)\n",
    "e = (l2-l1)/(l2+l1)\n",
    "\n",
    "T_anos = T/(60*60*24*365.25)\n",
    "\n",
    "print(f'l2: {l2:.2e} metros,\\nv2: {v2/1000:.2f} Km/s,\\nT: {T_anos:.2f} anos e\\ne: {e:.4f}')"
   ]
  },
  {
   "cell_type": "markdown",
   "id": "60042c5e-91df-4dd4-be80-9a08e33d2a44",
   "metadata": {},
   "source": [
    "**exercicio 2.9 numeros de Catalan**"
   ]
  },
  {
   "cell_type": "code",
   "execution_count": 11,
   "id": "b646bf67-9571-401d-991e-0fcad814619a",
   "metadata": {},
   "outputs": [
    {
     "name": "stdout",
     "output_type": "stream",
     "text": [
      "1\n",
      "2.0\n",
      "5.0\n",
      "14.0\n",
      "42.0\n",
      "132.0\n",
      "429.0\n",
      "1430.0\n",
      "4862.0\n",
      "16796.0\n",
      "58786.0\n",
      "208012.0\n",
      "742900.0\n",
      "2674440.0\n",
      "9694845.0\n",
      "35357670.0\n",
      "129644790.0\n",
      "477638700.0\n"
     ]
    }
   ],
   "source": [
    "cn1 = 1\n",
    "n = 0\n",
    "\n",
    "while(cn1<1e9):\n",
    "  print(cn1)\n",
    "  n += 1\n",
    "\n",
    "  cn1 = cn1*(4*n+2)/(n+2)"
   ]
  },
  {
   "cell_type": "code",
   "execution_count": null,
   "id": "ac8fbb30-7ff7-4393-bfcc-44d183018116",
   "metadata": {},
   "outputs": [],
   "source": []
  }
 ],
 "metadata": {
  "kernelspec": {
   "display_name": "Python 3 (ipykernel)",
   "language": "python",
   "name": "python3"
  },
  "language_info": {
   "codemirror_mode": {
    "name": "ipython",
    "version": 3
   },
   "file_extension": ".py",
   "mimetype": "text/x-python",
   "name": "python",
   "nbconvert_exporter": "python",
   "pygments_lexer": "ipython3",
   "version": "3.11.7"
  }
 },
 "nbformat": 4,
 "nbformat_minor": 5
}
