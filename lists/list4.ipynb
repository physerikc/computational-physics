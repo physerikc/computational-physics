{
  "nbformat": 4,
  "nbformat_minor": 0,
  "metadata": {
    "colab": {
      "provenance": []
    },
    "kernelspec": {
      "name": "python3",
      "display_name": "Python 3"
    },
    "language_info": {
      "name": "python"
    }
  },
  "cells": [
    {
      "cell_type": "markdown",
      "source": [
        "**Import das bibliotecas utilizadas ao longo da lista**"
      ],
      "metadata": {
        "id": "qJfSRdTbcWeo"
      }
    },
    {
      "cell_type": "code",
      "source": [
        "import math\n",
        "import numpy as np\n",
        "import matplotlib.pyplot as plt"
      ],
      "metadata": {
        "id": "mvfLQGRDdabJ"
      },
      "execution_count": 1,
      "outputs": []
    },
    {
      "cell_type": "markdown",
      "source": [
        "# **Problema 1 - Diferenças centradas e derivada**"
      ],
      "metadata": {
        "id": "a4mxTg9yG2CA"
      }
    },
    {
      "cell_type": "code",
      "execution_count": 2,
      "metadata": {
        "id": "B7yOAGC-KZzm"
      },
      "outputs": [],
      "source": [
        "def f(xi):\n",
        "  return 1+(1/2)*math.tanh(2*xi)\n",
        "\n",
        "x = np.linspace(-2, 2, 100)\n",
        "h = 1e-5"
      ]
    },
    {
      "cell_type": "markdown",
      "source": [
        "O valor de h = 1e-5 foi escolhido para otimização das contas, seguindo o recomendado pelo Newmann pg192. Adicionamos então uma lista dfdx para armazenar os 100 valores da derivada da função no intervalo de -2 a 2:"
      ],
      "metadata": {
        "id": "PWL2Hh-4goRa"
      }
    },
    {
      "cell_type": "code",
      "source": [
        "dfdx = []\n",
        "for value in x:\n",
        "  dfdx.append((f(value+h/2)-f(value-h/2))/h)"
      ],
      "metadata": {
        "id": "b2CWUN8rgaxW"
      },
      "execution_count": 3,
      "outputs": []
    },
    {
      "cell_type": "markdown",
      "source": [
        "Sabendo que a derivada da tanh(2x) é 2(1-tanh(x)^2), temos a forma analítica para derivada: 1-((e^4x-1)/(e^4x+1))^2. Calculamos então as mesmas 100 derivadas no mesmo intervalo de -2 a 2 mas agora usando essa forma analítica:"
      ],
      "metadata": {
        "id": "Ai9ZSOB_hc5Z"
      }
    },
    {
      "cell_type": "code",
      "source": [
        "def f_anal(xi):\n",
        "  num = np.exp(4*xi)-1\n",
        "  den = np.exp(4*xi)+1\n",
        "  return 1-(num/den)**2\n",
        "\n",
        "dfdx_anal = []\n",
        "for value in x:\n",
        "  dfdx_anal.append(f_anal(value))"
      ],
      "metadata": {
        "id": "UeLrssmQhTxm"
      },
      "execution_count": 4,
      "outputs": []
    },
    {
      "cell_type": "markdown",
      "source": [
        "Plotando o gráfico **por essas derivadas da função** (linha azul) e **pela forma analítica** (pontos vermelhos):"
      ],
      "metadata": {
        "id": "S3FaRceNi476"
      }
    },
    {
      "cell_type": "code",
      "source": [
        "plt.plot(x, dfdx)\n",
        "plt.scatter(x, dfdx_anal, s=10, color='red')\n",
        "plt.show()"
      ],
      "metadata": {
        "colab": {
          "base_uri": "https://localhost:8080/",
          "height": 430
        },
        "id": "Z2PVFGKSf6WX",
        "outputId": "d19c5022-8965-450d-b929-f974a7a7431a"
      },
      "execution_count": 5,
      "outputs": [
        {
          "output_type": "display_data",
          "data": {
            "text/plain": [
              "<Figure size 640x480 with 1 Axes>"
            ],
            "image/png": "[encoded data removed]"
          },
          "metadata": {}
        }
      ]
    },
    {
      "cell_type": "markdown",
      "source": [
        "# **Problema 2 - Derivadas e ordens de aproximação**"
      ],
      "metadata": {
        "id": "yMj3xpW5HMyU"
      }
    },
    {
      "cell_type": "markdown",
      "source": [
        "**a)** Primeiro criamos dois arrays para armazenas os coeficientes da **Tabela 5.1**. Os **'coeffs_dg3'** que multiplicam as funções por fora e os **'coeffs_hs'** que são os coeficientes dos argumentos dessas mesmas respectivas funções."
      ],
      "metadata": {
        "id": "f3CWpoq4ilE5"
      }
    },
    {
      "cell_type": "markdown",
      "source": [
        "Criamos a função **func_dg3** que recebe como argumento o array x (-2, 2) e **um valor único de h** e retorna uma **lista** com os valores das **derivadas no intervalo de x, usando o h do argumento.**"
      ],
      "metadata": {
        "id": "ZT5WVeqPTAd5"
      }
    },
    {
      "cell_type": "code",
      "source": [
        "def f2(xi):\n",
        "  return 1+(1/2)*math.tanh(2*xi)\n",
        "\n",
        "def func_dg3(x2, h):\n",
        "\n",
        "  coeffs_dg3 = np.array([1/24, -27/24, 27/24, -1/24])\n",
        "  coeffs_hs = np.array([-3/2, -1/2, 1/2, 3/2])\n",
        "\n",
        "  dfdx2_all = []\n",
        "\n",
        "  for value in x2:\n",
        "\n",
        "    dfdx2_value = 0\n",
        "\n",
        "    for coef_dg3, coef_h in zip(coeffs_dg3, coeffs_hs):\n",
        "      func = (coef_dg3 * f2(value + h * coef_h))/h\n",
        "      dfdx2_value += func\n",
        "\n",
        "    # for i in range(4):\n",
        "    #   func = (coeffs_dg3[i]*f2(value + coeffs_hs[i]*h))/h\n",
        "    #   dfdx2_value += func\n",
        "\n",
        "    dfdx2_all.append(dfdx2_value)\n",
        "\n",
        "  return dfdx2_all"
      ],
      "metadata": {
        "id": "iuyC99RTHUnm"
      },
      "execution_count": 91,
      "outputs": []
    },
    {
      "cell_type": "code",
      "source": [
        "x2 = np.linspace(-2, 2, 100)\n",
        "h = 1e-5\n",
        "\n",
        "lst = func_dg3(x2, h)\n",
        "\n",
        "print(lst[:5])"
      ],
      "metadata": {
        "colab": {
          "base_uri": "https://localhost:8080/"
        },
        "id": "VhdIBrnyjTqv",
        "outputId": "60c931d1-1026-4496-b505-23ee5cfe5ffd"
      },
      "execution_count": 92,
      "outputs": [
        {
          "output_type": "stream",
          "name": "stdout",
          "text": [
            "[0.0013409506746029365, 0.0015759800767227716, 0.0018521650158618286, 0.002176697651975701, 0.0025580213437024213]\n"
          ]
        }
      ]
    },
    {
      "cell_type": "markdown",
      "source": [
        "Plotando essas derivadas da função **pela aproximação de ordem 3** (linha azul) e **pela forma analítica** de anteriormente (pontos vermelhos):"
      ],
      "metadata": {
        "id": "EZXtq9eZm8C9"
      }
    },
    {
      "cell_type": "code",
      "source": [
        "plt.scatter(x, dfdx_anal, s=10, color='red')\n",
        "plt.plot(x2, lst)\n",
        "plt.show()"
      ],
      "metadata": {
        "colab": {
          "base_uri": "https://localhost:8080/",
          "height": 430
        },
        "id": "FAUDixzUiHXc",
        "outputId": "1f19d854-2edc-4785-a391-0e236b889a9b"
      },
      "execution_count": 93,
      "outputs": [
        {
          "output_type": "display_data",
          "data": {
            "text/plain": [
              "<Figure size 640x480 with 1 Axes>"
            ],
            "image/png": "[encoded data removed]"
          },
          "metadata": {}
        }
      ]
    },
    {
      "cell_type": "markdown",
      "source": [
        "**b)** para x = 0, a tangente hiperbólica zera, logo **f(x) = 1 + (1/2)*tanh(2x)**, então **f(0) = 1**."
      ],
      "metadata": {
        "id": "u41ZmeHQoTfe"
      }
    },
    {
      "cell_type": "markdown",
      "source": [
        "Criamos então três funções, uma é a que vai **verificar o h que da o menor erro**, outra que **calcula a derivada** e outra que **calcula a propria funcao**. estamos utilizando **np.argmin(array)** para pegar o índice do menor valor dentro do array. Como os **for** trabalham de índice em índice de forma crescente, sabemos que o índice retornado por **np.argmin(array)** será o mesmo índice do array de h's."
      ],
      "metadata": {
        "id": "EDYNYYe7Au4P"
      }
    },
    {
      "cell_type": "code",
      "source": [
        "def fb(xi):\n",
        "  return 1+(1/2)*math.tanh(2*xi)\n",
        "\n",
        "def derivada(h):\n",
        "  return (fb(0+h/2)-fb(0-h/2))/h\n",
        "\n",
        "def funcao_verif_h(hs):\n",
        "\n",
        "  # qual h da o menor 1 - dfdxb\n",
        "\n",
        "  erros = []\n",
        "  for h in hs:\n",
        "    erros.append(abs(1-derivada(h)))\n",
        "\n",
        "  # usando np.argmin(array) para pegar o índice do menor valor\n",
        "\n",
        "  indice = np.argmin(erros)\n",
        "  return indice"
      ],
      "metadata": {
        "id": "fSlBtcTfAGJ5"
      },
      "execution_count": 105,
      "outputs": []
    },
    {
      "cell_type": "code",
      "source": [
        "hs = np.array([1e-2, 1e-3, 1e-4, 1e-5, 1e-6, 1e-7])\n",
        "\n",
        "indice = funcao_verif_h(hs)\n",
        "\n",
        "print(indice)"
      ],
      "metadata": {
        "colab": {
          "base_uri": "https://localhost:8080/"
        },
        "id": "rYLZK-4uHw1T",
        "outputId": "809ee200-0b19-435a-b43c-c289bfceb3a0"
      },
      "execution_count": 106,
      "outputs": [
        {
          "output_type": "stream",
          "name": "stdout",
          "text": [
            "4\n"
          ]
        }
      ]
    },
    {
      "cell_type": "markdown",
      "source": [
        "Para mostrar a **validade do processo** vamos trocar a sequencia dos argumentos do array **hs** e printar as posições do h que minimiza o erro."
      ],
      "metadata": {
        "id": "alTs37rHH8kU"
      }
    },
    {
      "cell_type": "markdown",
      "source": [
        " Como podemos perceber sempre encontramos o **índice respectivo ao h = 1e-6:**"
      ],
      "metadata": {
        "id": "2jECunC5I8H8"
      }
    },
    {
      "cell_type": "code",
      "source": [
        "hs2 = np.array([1e-6, 1e-4, 1e-3, 1e-5, 1e-2, 1e-7])\n",
        "hs3 = np.array([1e-7, 1e-3, 1e-6, 1e-5, 1e-4, 1e-2])\n",
        "\n",
        "indice2 = funcao_verif_h(hs2)\n",
        "indice3 = funcao_verif_h(hs3)\n",
        "\n",
        "print(f'indice2: {indice2} e indice3: {indice3}')"
      ],
      "metadata": {
        "colab": {
          "base_uri": "https://localhost:8080/"
        },
        "id": "dsitxn8sH76N",
        "outputId": "5575bab7-0007-49db-aa6d-f48aa9af67f3"
      },
      "execution_count": 107,
      "outputs": [
        {
          "output_type": "stream",
          "name": "stdout",
          "text": [
            "indice2: 0 e indice3: 2\n"
          ]
        }
      ]
    },
    {
      "cell_type": "markdown",
      "source": [
        "**c)** Como sabemos, a função **func_dg3()** usada anteriormente calcula a derivada usando uma aproximação de ordem 3, logo utilizaremos a mesma para calcular a derivada da **função para cada h em hs**. Assim utilizando **funcao_verif_h** que criamos, veremos o indice (e valor) do h que minimiza o erro:\n"
      ],
      "metadata": {
        "id": "eBgJVy7BJroZ"
      }
    },
    {
      "cell_type": "code",
      "source": [
        "def fb(xi):\n",
        "  return 1+(1/2)*math.tanh(2*xi)\n",
        "\n",
        "def funcao_verif_hdg3(hs):\n",
        "\n",
        "  # qual h da o menor 1 - dfdxb\n",
        "  x3 = np.array([0])\n",
        "\n",
        "  erros = []\n",
        "  for h in hs:\n",
        "    temp = func_dg3(x3, h)\n",
        "\n",
        "    erros.append(abs(1-temp[0]))\n",
        "\n",
        "  # usando np.argmin(array) para pegar o índice do menor valor\n",
        "\n",
        "  indice = np.argmin(erros)\n",
        "  return indice"
      ],
      "metadata": {
        "id": "8FCa1dsUJr1x"
      },
      "execution_count": 110,
      "outputs": []
    },
    {
      "cell_type": "code",
      "source": [
        "hs_dg3 = np.array([1e-2, 1e-6, 1e-4, 1e-5, 1e-3, 1e-7])\n",
        "\n",
        "indice_dg3 = funcao_verif_hdg3(hs_dg3)\n",
        "\n",
        "print(f'h que minimiza: {hs_dg3[indice_dg3]}')"
      ],
      "metadata": {
        "colab": {
          "base_uri": "https://localhost:8080/"
        },
        "id": "w2v8tQ-fOZCN",
        "outputId": "9efd629b-5d47-4e33-9cdc-ac3f8b88cab8"
      },
      "execution_count": 112,
      "outputs": [
        {
          "output_type": "stream",
          "name": "stdout",
          "text": [
            "h que minimiza: 0.0001\n"
          ]
        }
      ]
    },
    {
      "cell_type": "markdown",
      "source": [
        "Como vemos a minimização do erro neste caso ocorre para **h = 1e-4**, ou seja, um h maior do que o anterior."
      ],
      "metadata": {
        "id": "-x3gDjYBX1fd"
      }
    },
    {
      "cell_type": "markdown",
      "source": [
        "A explicação para isso é que quando olhamos para **Tabela 5.1**, vemos que ao comparar os graus pares e ímpares, eles têm o erro proporcional à mesma ordem de h, **porém os graus pares têm coeficientes menores multiplicando as funções**. Além disso os graus ímpares **possuem amostras em pontos intermediários** enquanto os graus pares anteriores não."
      ],
      "metadata": {
        "id": "JpTt0dVaX3e6"
      }
    },
    {
      "cell_type": "markdown",
      "source": [
        "# **Problema 3 - Derivadas e gráficos**"
      ],
      "metadata": {
        "id": "GbEXJFrGHVAN"
      }
    },
    {
      "cell_type": "code",
      "source": [],
      "metadata": {
        "id": "Y4UIcM-6HabV"
      },
      "execution_count": 5,
      "outputs": []
    },
    {
      "cell_type": "markdown",
      "source": [
        "# **Problema 4 - Campo elétrico de uma distribuicao de cargas**"
      ],
      "metadata": {
        "id": "xJoJcV9xHccI"
      }
    },
    {
      "cell_type": "code",
      "source": [],
      "metadata": {
        "id": "Mq0Gb4b0Hg-1"
      },
      "execution_count": 5,
      "outputs": []
    }
  ]
}