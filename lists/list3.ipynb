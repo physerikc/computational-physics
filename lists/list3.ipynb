{
 "cells": [
  {
   "cell_type": "markdown",
   "id": "86df3128-242d-4837-87b1-66887cf2cb09",
   "metadata": {},
   "source": [
    "# **Problema 1: capacidade termica de um solido**"
   ]
  },
  {
   "cell_type": "markdown",
   "id": "a78ce782-07db-488e-a740-e8d1ad51e777",
   "metadata": {},
   "source": [
    "**calculo da quadratura gaussiana manualmente (sem import)**"
   ]
  },
  {
   "cell_type": "code",
   "execution_count": 1,
   "id": "68c347db-374c-47bb-8ac3-90139d7677de",
   "metadata": {},
   "outputs": [
    {
     "name": "stdout",
     "output_type": "stream",
     "text": [
      "N: 50 and Cv(100K): 1150.53 J/K\n"
     ]
    }
   ],
   "source": [
    "import numpy as np\n",
    "\n",
    "# constantes e arrays utilizados\n",
    "\n",
    "p_d = 6.022e28\n",
    "theta = 428\n",
    "V = 1e-3\n",
    "k_b = 1.38e-23\n",
    "N = 50\n",
    "\n",
    "def cv(T):\n",
    "  N = 50\n",
    "  a, b = 0, theta/T\n",
    "  h = (b-a)/N\n",
    "\n",
    "  const = 9*V*p_d*k_b*(T/theta)**3\n",
    "\n",
    "  xk = np.linspace(-1, 1, N)\n",
    "  xk_line = 1/2*(b-a)*xk + 1/2*(b+a)\n",
    "\n",
    "\n",
    "\n",
    "  # calculo das integrais por trapezio\n",
    "\n",
    "  def funcPhi(x, k):\n",
    "    # xk = np.linspace(-1, 1, N)\n",
    "    prod = 1\n",
    "    for m in range(1, N):\n",
    "      if m != k:\n",
    "        prod *= (x-xk[m])/(xk[k]-xk[m])\n",
    "    return prod\n",
    "\n",
    "  def somat(a, h, N, k):\n",
    "    soma = 0\n",
    "    for k2 in range(1, N):\n",
    "      soma += funcPhi(a + k2*h, k)\n",
    "    return soma\n",
    "\n",
    "  def integral_trap(a, b, k):       # a = -1,   b = 1   e   k determina um valor do array phi\n",
    "    N = 50\n",
    "    h = (b-a)/N\n",
    "    i_ab = (h/2)*(funcPhi(a, k)+funcPhi(b, k)+2*somat(a, h, N, k))\n",
    "    return i_ab\n",
    "\n",
    "\n",
    "\n",
    "  # calculo do array wk', usando eq(5.62) e eq(5.60)\n",
    "\n",
    "  wk = []\n",
    "\n",
    "  for k in range(1, N):\n",
    "    wk.append(integral_trap(-1, 1, k))\n",
    "\n",
    "  wk = np.array(wk)\n",
    "  wk_line = 1/2*(b-a)*wk\n",
    "\n",
    "\n",
    "\n",
    "  # calculo do array f(xk'), onde f é a funcao(x) dentro da integral de Cv\n",
    "\n",
    "  def funcX(xk_line, N):\n",
    "    f = []\n",
    "\n",
    "    for k in range(1, N):\n",
    "      nom = (xk_line[k]**4)*(np.exp(xk_line[k]))\n",
    "      den = (np.exp(xk_line[k])-1)**2\n",
    "\n",
    "      f.append(nom/den)\n",
    "    return f\n",
    "  fxk_line = funcX(xk_line, N)\n",
    "\n",
    "\n",
    "\n",
    "  # funcao do somatorio da eq(5.63)\n",
    "\n",
    "  def somatorio(wk_line, fxk_line):\n",
    "\n",
    "    somatorio = 0\n",
    "    for k in range(1, N-1):\n",
    "      somatorio += wk_line[k]*fxk_line[k]\n",
    "    return somatorio\n",
    "\n",
    "  return const*somatorio(wk_line, fxk_line)\n",
    "\n",
    "T = 100\n",
    "Cv = cv(100)\n",
    "\n",
    "print(f'N: {N} and Cv(100K): {Cv:.2f} J/K')"
   ]
  },
  {
   "cell_type": "code",
   "execution_count": 2,
   "id": "730463bb-67e4-4854-8394-cbe3cf112702",
   "metadata": {},
   "outputs": [
    {
     "data": {
      "image/png": "[encoded data removed]",
      "text/plain": [
       "<Figure size 640x480 with 1 Axes>"
      ]
     },
     "metadata": {},
     "output_type": "display_data"
    }
   ],
   "source": [
    "import matplotlib.pyplot as plt\n",
    "\n",
    "Ts = np.linspace(5, 500, 50)\n",
    "Cv = []\n",
    "\n",
    "for T in Ts:\n",
    "  Cv.append(cv(T))\n",
    "\n",
    "plt.plot(Ts, Cv)\n",
    "plt.show()"
   ]
  },
  {
   "cell_type": "markdown",
   "id": "3d8bb67e-c8dd-4670-875f-150cd54e08ea",
   "metadata": {},
   "source": [
    "# **Problema 2: a constante de Stefan-Boltzmann**"
   ]
  },
  {
   "cell_type": "markdown",
   "id": "37a6b60a-9f59-4df4-a462-a7a0453b7aad",
   "metadata": {},
   "source": [
    "$$\\int I(\\omega) d\\omega = \\int \\frac{\\hslash}{4\\pi^{2}c^{2}} \\frac{\\omega^{3}}{(e^{\\frac{\\hslash \\omega}{k_{B}T}}-1)} d\\omega$$"
   ]
  },
  {
   "cell_type": "markdown",
   "id": "e039a4f5-4578-4263-96fb-864d1fa58ca2",
   "metadata": {},
   "source": [
    "**Fazendo a substituição:**\n",
    "$$x = \\frac{\\hslash \\omega}{k_{B}T}  \\rightarrow dx= \\frac{\\hslash}{k_{B}T} d\\omega,\\ \\ \\ \\ \\ \\ temos\\ \\ \\ \\ \\ \\omega^{3} = \\frac{x^{3}k_{B}^{3} T^{3}}{\\hslash^{3}}\\ \\ e\\ \\ d\\omega = \\frac{k_{B}T}{\\hslash} dx$$"
   ]
  },
  {
   "cell_type": "markdown",
   "id": "2373be92-66ed-45e8-88f1-82ca1bd11aa5",
   "metadata": {},
   "source": [
    "**onde chegamos no resultado esperado apenas substituindo esses valores na integral:**\n",
    "$$W = \\int_{0}^{\\infty} I(\\omega)d\\omega = \\frac{\\hslash}{4\\pi^{2}c^{2}} \\int_{0}^{\\infty} \\frac{\\frac{x^{3}k_{B}^{3} T^{3}}{\\hslash^{3}}}{(e^x-1)}$$\n",
    "\n",
    "$$\\therefore\\  \\boxed{W =\\frac{k_{B}^{4}T^{4}}{4\\pi^{2}c^{2}\\hslash^{3}} \\int_{0}^{\\infty} \\frac{x^{3}}{(e^{x}-1)}dx}$$"
   ]
  },
  {
   "cell_type": "code",
   "execution_count": 3,
   "id": "ba67a43f-da2c-4532-a519-b3f2801e6a71",
   "metadata": {},
   "outputs": [
    {
     "name": "stdout",
     "output_type": "stream",
     "text": [
      "W: 5.6520 J/m²\n"
     ]
    }
   ],
   "source": [
    "import numpy as np\n",
    "\n",
    "kb = 1.38e-23     # m2 Kg/ s2 K\n",
    "c = 3e8           # m/ s\n",
    "h = 6.626e-34     # m2 Kg/ s\n",
    "h_ = h/(2*np.pi)\n",
    "T = 100\n",
    "\n",
    "def const(T):\n",
    "  nom, den = (kb**4)*T**4, 4*(np.pi**2)*(c**2)*(h_**3)\n",
    "  return nom/den\n",
    "\n",
    "N = 1000\n",
    "a, b = 0.05, 1.02\n",
    "h = (b-a)/N\n",
    "\n",
    "def f(y):\n",
    "  x = (1/y)-1\n",
    "  nom = x**3\n",
    "  den = np.exp(x)-1\n",
    "\n",
    "  return (nom/den)*(1/(y**2))\n",
    "\n",
    "def integ_simp(a, b, h, N):\n",
    "  soma = 0\n",
    "\n",
    "  for k in range(1, N):\n",
    "    if k%2 != 0:\n",
    "      soma += 4*f(a+k*h)\n",
    "    else:\n",
    "      soma += 2*f(a+k*h)\n",
    "\n",
    "  i_simp = (h/3)*(f(a) + f(b) + soma)\n",
    "  return i_simp\n",
    "\n",
    "W = const(T)*integ_simp(a, b, h, N)\n",
    "\n",
    "print(f'W: {W:.4f} J/m²')"
   ]
  },
  {
   "cell_type": "markdown",
   "id": "15180171-9eb6-480c-ad68-8fe45388f680",
   "metadata": {},
   "source": [
    "**Utilizamos o método de símpson, segue calculo do erro abaixo:**"
   ]
  },
  {
   "cell_type": "code",
   "execution_count": 4,
   "id": "2da04682-0c59-4f0e-aef1-c6b654e11c07",
   "metadata": {},
   "outputs": [
    {
     "name": "stdout",
     "output_type": "stream",
     "text": [
      "erro euler_maclaurin: 1.43%\n"
     ]
    }
   ],
   "source": [
    "W2 = const(T)*integ_simp(a, b, h, 2*N)\n",
    "\n",
    "e2_euler_maclau = (1/3)*(W2-W)\n",
    "print(f'erro euler_maclaurin: {100*abs(e2_euler_maclau):.2f}%')"
   ]
  },
  {
   "cell_type": "code",
   "execution_count": 5,
   "id": "9864e64f-6db0-4dc8-9047-72f170656468",
   "metadata": {},
   "outputs": [
    {
     "name": "stdout",
     "output_type": "stream",
     "text": [
      "const stefan_boltzman: 5.652 Kg/s3K4\n"
     ]
    }
   ],
   "source": [
    "cst_stf_btz = W/(T**4)\n",
    "\n",
    "print(f'const stefan_boltzman: {cst_stf_btz*1e8:.3f} Kg/s3K4')"
   ]
  },
  {
   "cell_type": "markdown",
   "id": "59406b46-124f-4b68-a9b3-7fd8d48ef6f7",
   "metadata": {},
   "source": [
    "**Resultado satisfatório, bem próximo do valor real de 5.670 Kg/s3K4**"
   ]
  },
  {
   "cell_type": "markdown",
   "id": "c5f186ec-91cb-4761-a384-3910291df297",
   "metadata": {},
   "source": [
    "# **Problema 3: atração gravitacional de uma folha uniforme**"
   ]
  },
  {
   "cell_type": "code",
   "execution_count": 59,
   "id": "957ddccf-09ec-48f4-a353-77761300e16f",
   "metadata": {},
   "outputs": [
    {
     "name": "stdout",
     "output_type": "stream",
     "text": [
      "[0.37099147311451913, 0.36974822786977307, 0.3660550400330032, 0.36001920052575453, 0.35181194625278994, 0.34165795856367615, 0.32982225375299806, 0.31659574739905555, 0.3022807753686581, 0.2871776940751246, 0.2715734096790607, 0.2557323600556151, 0.23989015104519068, 0.22424977287105236, 0.20898011866014726, 0.19421640210643945, 0.18006201909583924, 0.16659140381116858, 0.15385347544099498, 0.14187533976613942, 0.13066598624430417, 0.12021979538624714, 0.11051973677188952, 0.1015401918353359, 0.09324937681753082, 0.08561137086980898, 0.07858777386447371, 0.07213903002383357, 0.0662254589876097, 0.06080803715180294, 0.05584897047641168, 0.0513120966005357, 0.04716314985242098, 0.0433699181808207, 0.03990231654604048, 0.036732397127668376, 0.03383431295630511, 0.031184248308949468, 0.028760326423766802, 0.026542502761831337, 0.0245124501270702, 0.022653440400169866, 0.020950226395714797, 0.019388926365041206, 0.017956912895390236, 0.016642707359604336, 0.015435880615964183, 0.014326960316338995, 0.01330734492892065, 0.012369224400054077, 0.011505507252299022, 0.010709753830237787, 0.009976115351600433, 0.009299278391072372, 0.008674414411442413, 0.00809713395670606, 0.007563445130625071, 0.007069715999205235, 0.006612640574442281, 0.0061892080578753155, 0.005796675044801532, 0.0054325404125732425, 0.005094522638615429, 0.0047805393152433205, 0.004488688648754949, 0.004217232749453617, 0.00396458253713269, 0.0037292841030994546, 0.003510006385040095, 0.0033055300249696766, 0.003114737293230843, 0.0029366029730725943, 0.002770186110830203, 0.002614622546222292, 0.002469118145856305, 0.0023329426707694246, 0.002205424215800093, 0.0020859441648560465, 0.001973932611785004, 0.0018688642016203728, 0.0017702543515271906, 0.001677655814859906, 0.0015906555554124169, 0.0015088719022333264, 0.0014319519583347302, 0.0013595692392743008, 0.0012914215199712593, 0.0012272288702530278, 0.001166731861547628, 0.0011096899288597232, 0.0010558798737150318, 0.0010050944951485558, 0.0009571413370614045, 0.0009118415413943992, 0.0008690287975775797, 0.0008285483796237557, 0.0007902562630530747, 0.0007540183145727783, 0.0007197095481006214, 0.0006872134413192293]\n"
     ]
    }
   ],
   "source": [
    "import intinf\n",
    "from intinf import *\n",
    "import numpy as np\n",
    "\n",
    "G = 6.674e-11       # m3/ kg s2\n",
    "sig = 100           # Kg/ m2\n",
    "\n",
    "L = 10\n",
    "a, b = 0, L/2\n",
    "N = 100\n",
    "\n",
    "zs = np.linspace(0, 10, 100)\n",
    "\n",
    "def func(x, y, z):\n",
    "    return 1/((x**2)+(y**2)+(z**2))**3/2\n",
    "        \n",
    "def forca(z):\n",
    "    x, wx = gaussxwab(N, a, b)\n",
    "    \n",
    "    y = ((b-a)/2)*x + (b+a)/2             # arrumar os limites para -1 a 1\n",
    "    wy = ((b-a)/2)*wx + (b+a)/2           # wy deve mudar igual y\n",
    "\n",
    "    sum = 0\n",
    "    for i in range(N):\n",
    "        for j in range(N):\n",
    "            sum += wx[i]*wy[j]*func(x[i], y[j], z)\n",
    "    return 4*sum\n",
    "    \n",
    "forcas = []\n",
    "\n",
    "for z in zs:\n",
    "    forcas.append(forca(z))\n",
    "\n",
    "print(forcas)"
   ]
  },
  {
   "cell_type": "code",
   "execution_count": 60,
   "id": "7f675292-42d1-431b-8db2-75b86eed3584",
   "metadata": {},
   "outputs": [
    {
     "data": {
      "text/plain": [
       "[<matplotlib.lines.Line2D at 0x1ed46224f90>]"
      ]
     },
     "execution_count": 60,
     "metadata": {},
     "output_type": "execute_result"
    },
    {
     "data": {
      "image/png": "[encoded data removed]",
      "text/plain": [
       "<Figure size 640x480 with 1 Axes>"
      ]
     },
     "metadata": {},
     "output_type": "display_data"
    }
   ],
   "source": [
    "import matplotlib.pyplot as plt\n",
    "\n",
    "plt.plot(zs, forcas)"
   ]
  },
  {
   "cell_type": "markdown",
   "id": "f02d9bac-5a9a-4e3d-8d68-a8fc084b382d",
   "metadata": {},
   "source": [
    "**Dividindo a placa em n pequenos quadrados, podemos calcular a força de cada quadrado individualmente e integrar para toda placa, para isso podemos perceber que as componentes de cada uma das forças, paralelas ao plano se cancelam (corpo alinhado ao centro da placa), assim apenas a componente vertical (eixo z) atuaria na partícula, atraíndo-a em direção à placa:**"
   ]
  },
  {
   "cell_type": "markdown",
   "id": "9a790a7e-a56a-4a41-b970-5a1c3f253ebb",
   "metadata": {},
   "source": [
    "$$dF_{g} = \\frac{G\\ m\\ dM}{r^{2}}cos(\\theta) = \\frac{G\\ m\\ dM}{(z^{2}+x^{2}+y^{2})}cos(\\theta)$$\n",
    "\n",
    "**como:**\n",
    "$$cos(\\theta) = \\frac{z}{(z^{2}+x^{2}+y^{2})^{1/2}}\\ \\ \\ e\\ \\ \\ d\n",
    "M= \\sigma \\ dxdy$$\n",
    "\n",
    "**temos:**\n",
    "$$dF_{square} = \\frac{G\\ m\\ z\\ \\sigma \\ dxdy}{(z^{2}+x^{2}+y^{2})^{3/2}}$$"
   ]
  },
  {
   "cell_type": "markdown",
   "id": "272f43f0-fc6a-4dae-a27f-ef123e709a94",
   "metadata": {},
   "source": [
    "**como a placa é simétrica nos eixos x e y, podemos multiplicar a integral por 4 e integrar em dx e dy:**\n",
    "$$4\\ \\int_{F(0)}^{F_{g}(L/2)} dF_{square} = F_{total} = 4G\\ m\\ z\\ \\sigma\\ \\int_{0}^{L/2}\\int_{0}^{L/2} \\frac{dxdy}{(z^{2}+x^{2}+y^{2})^{3/2}}$$"
   ]
  },
  {
   "cell_type": "markdown",
   "id": "77d60d7a-49fb-4708-8aa1-b575bc40e985",
   "metadata": {},
   "source": [
    "**logo:**\n",
    "$$\\therefore\\  \\boxed{F_{z} = 4G\\ m\\ z\\ \\sigma\\ \\int_{0}^{L/2}\\int_{0}^{L/2} \\frac{dxdy}{(z^{2}+x^{2}+y^{2})^{3/2}}}$$"
   ]
  },
  {
   "cell_type": "markdown",
   "id": "dbb3f339-bb29-445b-a586-aff9fd29e25e",
   "metadata": {},
   "source": []
  }
 ],
 "metadata": {
  "kernelspec": {
   "display_name": "Python 3 (ipykernel)",
   "language": "python",
   "name": "python3"
  },
  "language_info": {
   "codemirror_mode": {
    "name": "ipython",
    "version": 3
   },
   "file_extension": ".py",
   "mimetype": "text/x-python",
   "name": "python",
   "nbconvert_exporter": "python",
   "pygments_lexer": "ipython3",
   "version": "3.11.7"
  }
 },
 "nbformat": 4,
 "nbformat_minor": 5
}
