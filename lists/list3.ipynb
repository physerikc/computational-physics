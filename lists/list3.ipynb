{
  "cells": [
    {
      "cell_type": "markdown",
      "metadata": {
        "id": "Mt3oYhJlLPuI"
      },
      "source": [
        "# **Problema 1: capacidade termica de um solido**"
      ]
    },
    {
      "cell_type": "markdown",
      "metadata": {
        "id": "J2V4Cv1mOyM5"
      },
      "source": [
        "**calculo da quadratura gaussiana manualmente (sem import)**"
      ]
    },
    {
      "cell_type": "code",
      "execution_count": 101,
      "metadata": {
        "colab": {
          "base_uri": "https://localhost:8080/"
        },
        "id": "55dzapA4K4XL",
        "outputId": "e563b56f-2b08-4e78-f09d-ec5cb5c4cdb9"
      },
      "outputs": [
        {
          "name": "stdout",
          "output_type": "stream",
          "text": [
            "N: 50 and Cv(100K): 1150.53 J/K\n"
          ]
        }
      ],
      "source": [
        "import numpy as np\n",
        "\n",
        "# constantes e arrays utilizados\n",
        "\n",
        "p_d = 6.022e28\n",
        "theta = 428\n",
        "V = 1e-3\n",
        "k_b = 1.38e-23\n",
        "\n",
        "def cv(T):\n",
        "\n",
        "  N = 50\n",
        "  a, b = 0, theta/T\n",
        "  h = (b-a)/N\n",
        "\n",
        "  const = 9*V*p_d*k_b*(T/theta)**3\n",
        "\n",
        "  xk = np.linspace(-1, 1, N)\n",
        "  xk_line = 1/2*(b-a)*xk + 1/2*(b+a)\n",
        "\n",
        "\n",
        "\n",
        "  # calculo das integrais por trapezio\n",
        "\n",
        "  def funcPhi(x, k):\n",
        "    # xk = np.linspace(-1, 1, N)\n",
        "    prod = 1\n",
        "    for m in range(1, N):\n",
        "      if m != k:\n",
        "        prod *= (x-xk[m])/(xk[k]-xk[m])\n",
        "    return prod\n",
        "\n",
        "  def somat(a, h, N, k):\n",
        "    soma = 0\n",
        "    for k2 in range(1, N):\n",
        "      soma += funcPhi(a + k2*h, k)\n",
        "    return soma\n",
        "\n",
        "  def integral_trap(a, b, k):       # a = -1,   b = 1   e   k determina um valor do array phi\n",
        "    N = 50\n",
        "    h = (b-a)/N\n",
        "    i_ab = (h/2)*(funcPhi(a, k)+funcPhi(b, k)+2*somat(a, h, N, k))\n",
        "    return i_ab\n",
        "\n",
        "\n",
        "\n",
        "  # calculo do array wk', usando eq(5.62) e eq(5.60)\n",
        "\n",
        "  wk = []\n",
        "\n",
        "  for k in range(1, N):\n",
        "    wk.append(integral_trap(-1, 1, k))\n",
        "\n",
        "  wk = np.array(wk)\n",
        "  wk_line = 1/2*(b-a)*wk\n",
        "\n",
        "\n",
        "\n",
        "  # calculo do array f(xk'), onde f é a funcao(x) dentro da integral de Cv\n",
        "\n",
        "  def funcX(xk_line, N):\n",
        "    f = []\n",
        "\n",
        "    for k in range(1, N):\n",
        "      nom = (xk_line[k]**4)*(np.exp(xk_line[k]))\n",
        "      den = (np.exp(xk_line[k])-1)**2\n",
        "\n",
        "      f.append(nom/den)\n",
        "    return f\n",
        "  fxk_line = funcX(xk_line, N)\n",
        "\n",
        "\n",
        "\n",
        "  # funcao do somatorio da eq(5.63)\n",
        "\n",
        "  def somatorio(wk_line, fxk_line):\n",
        "\n",
        "    somatorio = 0\n",
        "    for k in range(1, N-1):\n",
        "      somatorio += wk_line[k]*fxk_line[k]\n",
        "    return somatorio\n",
        "\n",
        "  return const*somatorio(wk_line, fxk_line)\n",
        "\n",
        "T = 100\n",
        "Cv = cv(100)\n",
        "\n",
        "print(f'N: {N} and Cv(100K): {Cv:.2f} J/K')"
      ]
    },
    {
      "cell_type": "code",
      "execution_count": 102,
      "metadata": {
        "colab": {
          "base_uri": "https://localhost:8080/",
          "height": 432
        },
        "id": "BygVpUl-N3IW",
        "outputId": "4e34a710-f7b9-47fd-af54-92a0c5aab07e"
      },
      "outputs": [
        {
          "data": {
            "image/png": "[encoded data removed]",
            "text/plain": [
              "<Figure size 640x480 with 1 Axes>"
            ]
          },
          "metadata": {},
          "output_type": "display_data"
        }
      ],
      "source": [
        "import matplotlib.pyplot as plt\n",
        "\n",
        "Ts = np.linspace(5, 500, 50)\n",
        "Cv = []\n",
        "\n",
        "for T in Ts:\n",
        "  Cv.append(cv(T))\n",
        "\n",
        "plt.plot(Ts, Cv)\n",
        "plt.show()"
      ]
    },
    {
      "cell_type": "markdown",
      "metadata": {
        "id": "L_OqNE7qLcyD"
      },
      "source": [
        "# **Problema 2: a constante de Stefan-Boltzmann**"
      ]
    },
    {
      "cell_type": "markdown",
      "metadata": {
        "id": "Y2cDo6T0m9KS"
      },
      "source": [
        "x = h w/k T -> dx = (h/k T) dw, so\n",
        "\n",
        "w³ = u³ k³ T³ / h³\n",
        "\n",
        "resultado substituindo na integral"
      ]
    },
    {
      "cell_type": "code",
      "execution_count": 152,
      "metadata": {
        "id": "z1APL24rLi4h"
      },
      "outputs": [],
      "source": [
        "import numpy as np\n",
        "\n",
        "kb = 1.38e-23     # m2 Kg/ s2 K\n",
        "c = 3e8           # m/ s\n",
        "h = 6.626e-34     # m2 Kg/ s\n",
        "h_ = h/(2*np.pi)\n",
        "T = 100\n",
        "\n",
        "def const(T):\n",
        "  nom, den = (kb**4)*T**4, 4*(np.pi**2)*(c**2)*(h_**3)\n",
        "  return nom/den\n",
        "\n",
        "N = 1000\n",
        "a, b = 0.05, 1\n",
        "h = (b-a)/N\n",
        "\n",
        "def f(t):\n",
        "  return (1-t)/(t**3)\n",
        "\n",
        "def integ_simp(a, b, h, N):\n",
        "  soma = 0\n",
        "\n",
        "  for k in range(1, N):\n",
        "    if k%2 != 0:\n",
        "      soma += 4*f(a+k*h)\n",
        "    else:\n",
        "      soma += 2*f(a+k*h)\n",
        "\n",
        "  i_simp = (h/3)*(f(a) + f(b) + soma)\n",
        "  return i_simp\n",
        "\n",
        "W1 = const(T)*integ_simp(a, b, h, N)"
      ]
    },
    {
      "cell_type": "markdown",
      "metadata": {
        "id": "w9XK4V6pz7OD"
      },
      "source": [
        "Utilizamos o método de símpson, segue calculo do erro abaixo:"
      ]
    },
    {
      "cell_type": "code",
      "execution_count": 153,
      "metadata": {
        "colab": {
          "base_uri": "https://localhost:8080/"
        },
        "id": "KJzpi5ucyWqG",
        "outputId": "a0761294-fb74-484a-cd2e-631b34e6f836"
      },
      "outputs": [
        {
          "name": "stdout",
          "output_type": "stream",
          "text": [
            "erro euler_maclaurin: 3.44%\n"
          ]
        }
      ],
      "source": [
        "W2 = const(T)*integ_simp(a, b, h, 2*N)\n",
        "\n",
        "e2_euler_maclau = (1/3)*(W2-W1)\n",
        "print(f'erro euler_maclaurin: {100*abs(e2_euler_maclau):.2f}%')"
      ]
    },
    {
      "cell_type": "markdown",
      "metadata": {
        "id": "vuPrTkEULkDs"
      },
      "source": [
        "# **Problema 3: atração gravitacional de uma folha uniforme**"
      ]
    },
    {
      "cell_type": "code",
      "execution_count": null,
      "metadata": {
        "id": "MG3o2SXwLpI1"
      },
      "outputs": [],
      "source": []
    }
  ],
  "metadata": {
    "colab": {
      "provenance": []
    },
    "kernelspec": {
      "display_name": "Python 3",
      "name": "python3"
    },
    "language_info": {
      "name": "python"
    }
  },
  "nbformat": 4,
  "nbformat_minor": 0
}
