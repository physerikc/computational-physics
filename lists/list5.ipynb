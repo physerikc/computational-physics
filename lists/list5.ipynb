{
 "cells": [
  {
   "cell_type": "markdown",
   "id": "b2ea081d-251f-44a8-b72c-42f2e8c91a43",
   "metadata": {},
   "source": [
    "### PROBLEMA 1 - Consider the equation x = 1 - exp(-c*x) [...]"
   ]
  },
  {
   "cell_type": "markdown",
   "id": "995c8f3a-dcbc-48fb-9574-13c721e18342",
   "metadata": {},
   "source": [
    "Import the necessary libraries"
   ]
  },
  {
   "cell_type": "code",
   "execution_count": 1,
   "id": "1b2682c6-b10f-4327-a095-ebb4ef52e02b",
   "metadata": {},
   "outputs": [],
   "source": [
    "from math import *\n",
    "import numpy as np\n",
    "from pylab import *\n",
    "import warnings\n",
    "warnings.filterwarnings(\"ignore\", category=RuntimeWarning)"
   ]
  },
  {
   "cell_type": "markdown",
   "id": "c75cca73-b645-42ec-a092-ff4d7f2ebf1f",
   "metadata": {},
   "source": [
    "Alternative **a)** to single value of **c = 2**:"
   ]
  },
  {
   "cell_type": "code",
   "execution_count": 2,
   "id": "adaa342c-4891-430a-b416-0a21e31718e2",
   "metadata": {},
   "outputs": [
    {
     "name": "stdout",
     "output_type": "stream",
     "text": [
      "0.7968126311118457\n"
     ]
    }
   ],
   "source": [
    "def func(c0, x1):\n",
    "    return 1 - np.exp(-c0*x1)\n",
    "\n",
    "x1 = 1\n",
    "c0 = 2\n",
    "\n",
    "accuracy = 1e-6\n",
    "error = 100\n",
    "\n",
    "while error > accuracy:\n",
    "    x1, x2 = func(c0, x1), x1\n",
    "    error = abs((x1 - x2)/(func(c0, x2)))\n",
    "    \n",
    "print(x1)"
   ]
  },
  {
   "cell_type": "markdown",
   "id": "97520608-806d-4818-be6f-753107f0d0bd",
   "metadata": {},
   "source": [
    "Alternative **b)** for a range of values of **c between 0 e 3**:"
   ]
  },
  {
   "cell_type": "code",
   "execution_count": 3,
   "id": "067916b1-4a51-47d6-9f92-faf15ee71dde",
   "metadata": {},
   "outputs": [],
   "source": [
    "list_cs = np.arange(0, 3, 0.01)\n",
    "list_ys = []\n",
    "\n",
    "accuracy = 1e-6\n",
    "\n",
    "for c in range(len(list_cs)):\n",
    "    x1 = 1\n",
    "    error = 10\n",
    "    \n",
    "    while error > accuracy:\n",
    "        x1, x2 = func(list_cs[c], x1), x1\n",
    "        error = abs((x1 - x2))\n",
    "        \n",
    "    list_ys.append(x1)"
   ]
  },
  {
   "cell_type": "markdown",
   "id": "7633c041-9a62-4487-8101-0da8a0cfb027",
   "metadata": {},
   "source": [
    "Plot of the graph of **x versus c**:"
   ]
  },
  {
   "cell_type": "code",
   "execution_count": 4,
   "id": "08258645-6cad-41a9-9078-1fcf262eb2d8",
   "metadata": {},
   "outputs": [
    {
     "data": {
      "image/png": "[encoded data removed]",
      "text/plain": [
       "<Figure size 640x480 with 1 Axes>"
      ]
     },
     "metadata": {},
     "output_type": "display_data"
    }
   ],
   "source": [
    "plt.plot(list_cs, list_ys)\n",
    "plt.xlabel(\"values of c\", size=12)\n",
    "plt.ylabel(\"values of function\", size=12)\n",
    "show()"
   ]
  },
  {
   "cell_type": "markdown",
   "id": "1fd51786-d1ba-4ac4-bd59-601b79704dc1",
   "metadata": {},
   "source": [
    "### PROBLEM 2 - The biochemical process of glucose [...]"
   ]
  },
  {
   "cell_type": "markdown",
   "id": "de4edf56-123a-4179-b062-7713a2d358e7",
   "metadata": {},
   "source": [
    "Alternative **b)** First we have two equations"
   ]
  },
  {
   "cell_type": "markdown",
   "id": "399185c2-0e9d-4a3b-833f-4aab75f27c45",
   "metadata": {},
   "source": [
    "$$ -x+ay+x^{2}y = 0 \\hspace{2cm} and \\hspace{2cm} b-ay-x^{2}y = 0 \\tag{1}$$ "
   ]
  },
  {
   "cell_type": "markdown",
   "id": "3d2db067-22d5-4755-bf05-098bd5e1963e",
   "metadata": {},
   "source": [
    "Isolating y in the two equations:"
   ]
  },
  {
   "cell_type": "markdown",
   "id": "b2adb6ba-1c94-42b4-a9d9-562c7c14fa05",
   "metadata": {},
   "source": [
    "$$ x = y(a+x^{2}) \\hspace{2cm} and \\hspace{2cm} b = y(a+x^{2}) \\tag{2}$$"
   ]
  },
  {
   "cell_type": "markdown",
   "id": "c1867aa4-8bcc-4fb1-97f1-c9291851f3e0",
   "metadata": {},
   "source": [
    "Using the relaxation method, guessing a value to $y0 = 10$:"
   ]
  },
  {
   "cell_type": "code",
   "execution_count": 5,
   "id": "d6268eb7-ba33-44bd-89e1-d5f81a084fbb",
   "metadata": {},
   "outputs": [
    {
     "name": "stdout",
     "output_type": "stream",
     "text": [
      "[2, 50, 1000.4000000000001, 800.3207996801281, 1.2800032773755772, 8.238404827705814e-06, 0.7580327623449672, 3.149227337362941, 13.867062173790416, 35.40976628839989, 12.983769526339408, 0.2702762271798839, 0.012655503938507832, 1.8641458852940693, 8.948646532160994, 36.23577751334046, 32.41390066390958, 1.600663147921306, 0.0067742792806833926, 0.5614887681028795, 2.630418561242041, 12.041792171468886, 36.87407038150909, 18.639078323309068, 0.5121128711455564, 0.007245719734321341, 1.5845433160728801, 7.021186425544231, 28.65294569558615, 32.68546178571536] \n",
      "\n",
      "\n",
      "[10, 0.4, 0.0007996801279488205, 1.9983989626870535e-06, 3.1224903842190482e-06, 0.7580327622935186, 1.9999999998642575, 1.2701528251936183, 0.18318989404897654, 0.010346856997414802, 0.0015938140270319405, 0.011793963854402692, 1.8638473681820493, 1.9996797277355007, 0.4469233912745912, 0.02466752044219574, 0.0015220334447227546, 0.0019017535909405254, 0.5614630020829834, 1.9999082224922033, 1.5206007530207504, 0.2525538941991662, 0.013698183660560137, 0.0014698348730505517, 0.005740277020425776, 1.5844601311959055, 1.9998950046033694, 0.5696743779163653, 0.0397637565064817, 0.002433115785065016]\n"
     ]
    }
   ],
   "source": [
    "\n",
    "\n",
    "def func_x(a, x0, y0):\n",
    "    return y0*(a+x0**2)\n",
    "    \n",
    "def func_y(a, b, x0):\n",
    "    return b/(a+x0**2)\n",
    "    \n",
    "numbers = arange(0, 30, 1)\n",
    "list_x, list_y = [], []\n",
    "\n",
    "a, b = 1, 2\n",
    "x0, y0 = b, 10\n",
    "\n",
    "for i in range(len(numbers)):\n",
    "\n",
    "    list_x.append(x0)\n",
    "    list_y.append(y0)\n",
    "    \n",
    "    x1, y1 = func_x(a, x0, y0), func_y(a, b, x0)\n",
    "    x0, y0 = x1, y1\n",
    "\n",
    "print(f'{list_x} \\n\\n')\n",
    "print(list_y)"
   ]
  },
  {
   "cell_type": "markdown",
   "id": "809ff9ba-0712-4388-b4d0-ca81005e7fc8",
   "metadata": {},
   "source": [
    "We can see that results x and y dosn't converge to a value, so we need find a different way for the equations in **(2)**"
   ]
  },
  {
   "cell_type": "markdown",
   "id": "125897fc-0592-43f8-821f-09068a2a1fb1",
   "metadata": {},
   "source": [
    "$$ x = y(a+x^{2}) \\hspace{1cm} \\rightarrow \\hspace{1cm} y = \\frac{x}{a+x^{2}} \\hspace{1cm}$$"
   ]
  },
  {
   "cell_type": "markdown",
   "id": "acc5fae7-aa6d-40aa-b4df-47923cb630ea",
   "metadata": {},
   "source": [
    "$$ y = \\frac{b}{a+x^{2}} \\hspace{1cm} \\rightarrow \\hspace{1cm} x^{2} = \\frac{b}{y} - a \\hspace{1cm} \\rightarrow \\hspace{1cm} x = \\sqrt{\\frac{b}{y} - a}$$"
   ]
  },
  {
   "cell_type": "code",
   "execution_count": 6,
   "id": "b839b0fb-11e9-4b8f-9789-423c295d7c18",
   "metadata": {},
   "outputs": [
    {
     "name": "stdout",
     "output_type": "stream",
     "text": [
      "2, 10 erro: 2.7810179996063695\n",
      "0.8944271909999159, 0.4 erro: 2.2250087348953835\n",
      "2.0, 0.4969039949999533 erro: 0.9270446661847174\n",
      "1.7392303928748547, 0.4 erro: 0.6187429033321573\n",
      "2.0, 0.43211526522242677 erro: 0.2768247659380562\n",
      "1.9048345577136077, 0.4 erro: 0.24243108681671488\n",
      "2.0, 0.41155404505562976 erro: 0.09734014312548253\n",
      "1.9645938682117348, 0.4 erro: 0.09278366356427968\n",
      "2.0, 0.40426827667701315 erro: 0.035706956844647454\n",
      "1.9867586287628018, 0.4 erro: 0.03507859490530023\n",
      "2.0, 0.40159174351156185 erro: 0.013283407738241281\n",
      "1.9950393652166665, 0.4 erro: 0.013195657131410422\n",
      "2.0, 0.40059566852578044 erro: 0.004966532049057761\n",
      "1.9981404392825226, 0.4 erro: 0.004954223669036172\n",
      "2.0, 0.4002232025413894 erro: 0.0018603892755358119\n",
      "1.9993027595188866, 0.4 erro: 0.0018586600584434253\n",
      "2.0, 0.40008367663224303 erro: 0.0006973569577992235\n",
      "1.999738548124926, 0.4 erro: 0.0006971138733044969\n",
      "2.0, 0.400031375318522 erro: 0.00026146825253613957\n",
      "1.9999019574166363, 0.4 erro: 0.0002614340733432098\n",
      "2.0, 0.4000117652637906 erro: 9.804488633452883e-05\n",
      "1.9999632342941107, 0.4 erro: 9.804008012609645e-05\n",
      "2.0, 0.4000044119063336 erro: 3.676602973893837e-05\n",
      "1.9999862128972543, 0.4 erro: 3.676535387856181e-05\n",
      "2.0, 0.4000016544553708 erro: 1.378714828667503e-05\n",
      "1.999994829841668, 0.4 erro: 1.3787053244478425e-05\n",
      "2.0, 0.4000006204194275 erro: 5.170164735732476e-06\n",
      "1.9999980611913566, 0.4 erro: 5.170151370458851e-06\n",
      "2.0, 0.4000002326570974 erro: 1.9388095442358354e-06\n",
      "1.9999992729468614, 0.4 erro: 1.9388076647460914e-06\n",
      "2.0, 0.4000000872463851 erro: 7.270532655806183e-07\n"
     ]
    }
   ],
   "source": [
    "def func_y(a, x0):\n",
    "    return x0/(a+x0**2)\n",
    "    \n",
    "def func_x(a, b, y0):\n",
    "    return np.sqrt(abs((b/y0) - a))\n",
    "\n",
    "def derivada(x1, y1):\n",
    "    return 2*x1*y1\n",
    "    \n",
    "a, b = 1, 2\n",
    "x0, y0 = b, 10\n",
    "\n",
    "accuracy = 1e-6\n",
    "error = 10000\n",
    "\n",
    "while error > accuracy:\n",
    "    x1 = func_x(a, b, y0)\n",
    "    y1 = func_y(a, x0)\n",
    "\n",
    "    error = abs((x0 - x1)/(1-(1/derivada(x1, y1))))\n",
    "\n",
    "    print(f'{x0}, {y0} erro: {error}')\n",
    "    \n",
    "    x0, y0 = x1, y1"
   ]
  },
  {
   "cell_type": "markdown",
   "id": "92cd0871-d37a-4a31-b6f0-ef597ed4002a",
   "metadata": {},
   "source": [
    "We can see that values of **x converge to 2.0** (equal to initial value) and the values of **y converge to 0.4**, how we wanted!"
   ]
  },
  {
   "cell_type": "markdown",
   "id": "933aec8a-5fa6-4f57-99d5-0af3970b5899",
   "metadata": {},
   "source": [
    "This solution agrees with the solution of the first alternative:"
   ]
  },
  {
   "cell_type": "markdown",
   "id": "5a4cf363-5beb-4c73-afd4-8e5efb03c0d3",
   "metadata": {},
   "source": [
    "Alternative **a)** Simply isolatin $(a+x^{2})$ in the left equation in **(2)** and applying on the right:"
   ]
  },
  {
   "cell_type": "markdown",
   "id": "09062ead-de11-4514-a7d2-accd0616d232",
   "metadata": {},
   "source": [
    "$$ x = b \\hspace{2cm} and \\hspace{2cm} y = \\frac{b}{a+b^{2}}$$"
   ]
  },
  {
   "cell_type": "code",
   "execution_count": 7,
   "id": "1254f08a-3d77-4b55-8dca-be7870ebf662",
   "metadata": {},
   "outputs": [
    {
     "name": "stdout",
     "output_type": "stream",
     "text": [
      "x: 2 and y: 0.4\n"
     ]
    }
   ],
   "source": [
    "a, b = 1, 2\n",
    "\n",
    "x, y = b, b/(a+b**2)\n",
    "\n",
    "print(f'x: {x} and y: {y}')"
   ]
  },
  {
   "cell_type": "markdown",
   "id": "fc1c2684-50de-4895-ab37-e45fb49feca8",
   "metadata": {},
   "source": [
    "### PROBLEM 3 - Wien displacement constant"
   ]
  },
  {
   "cell_type": "markdown",
   "id": "c36196a4-cbdb-4f26-852f-ff0bd335a5fa",
   "metadata": {},
   "source": [
    "for simplicity denote $k_{B}$ to $k$"
   ]
  },
  {
   "cell_type": "markdown",
   "id": "76cb1691-879c-40a6-a2fa-7e78e79e1aa6",
   "metadata": {},
   "source": [
    "$$ I(\\lambda) = \\frac{2\\pi hc\\lambda^{-5}}{e^{\\frac{hc}{\\lambda kT}}-1}$$"
   ]
  },
  {
   "cell_type": "markdown",
   "id": "c1185aae-056b-4e8c-bcb1-a024ce081223",
   "metadata": {},
   "source": [
    "Alternative **a)** The $\\lambda$ that corresponds to the maximum value of $I(\\lambda)$ is when $\\frac{dI(\\lambda)}{d\\lambda} = 0$"
   ]
  },
  {
   "cell_type": "markdown",
   "id": "e4f07c23-fb23-4d03-b724-d9f5123ae3d6",
   "metadata": {},
   "source": [
    "Using the quotient rule and $x = hc/\\lambda kT$ we have:"
   ]
  },
  {
   "cell_type": "markdown",
   "id": "f278e1a5-1d44-49e8-ad77-c1181204e433",
   "metadata": {},
   "source": [
    "$$ \\frac{-5p\\lambda^{-6} (e^{x}-1) - p\\lambda^{-5} (-\\frac{hckT}{\\lambda^{2}k^{2}T^{2}})e^{x}}{(e^{x}-1)^{2}} = 0$$"
   ]
  },
  {
   "cell_type": "markdown",
   "id": "22742fad-d5d8-480b-b78d-1aa1ebaacf4c",
   "metadata": {},
   "source": [
    "multiply by $(e^{x}-1)^{2}/p\\lambda^{-5}$ :"
   ]
  },
  {
   "cell_type": "markdown",
   "id": "74fe2818-bf41-415a-927f-4d75f7c8fff0",
   "metadata": {},
   "source": [
    "$$ -5\\lambda^{-1} (e^{x}-1) + (\\frac{x}{\\lambda})e^{x} = 0$$"
   ]
  },
  {
   "cell_type": "markdown",
   "id": "17b70793-efcd-4dc1-871e-22bec4ed73e4",
   "metadata": {},
   "source": [
    "distributing and multiply by $\\lambda /e^{x}$ :"
   ]
  },
  {
   "cell_type": "markdown",
   "id": "f1022295-8820-4682-986f-0618b6f054f3",
   "metadata": {},
   "source": [
    "$$ -5 +\\frac{5}{e^{x}} + x = 0$$"
   ]
  },
  {
   "cell_type": "markdown",
   "id": "3c864e2f-7061-4b2a-9224-67d821dbe985",
   "metadata": {},
   "source": [
    "rearranging the terms and apply $x = hc/\\lambda kT$, finally:"
   ]
  },
  {
   "cell_type": "markdown",
   "id": "790bf770-095f-4c78-b62d-0490625cffc7",
   "metadata": {},
   "source": [
    "$$ 5e^{-hc/\\lambda k_{B}T} + \\frac{hc}{\\lambda k_{B}T} - 5 = 0 \\tag{3}$$"
   ]
  },
  {
   "cell_type": "markdown",
   "id": "199bb998-43f9-4fe6-8028-9cdfe88bc9f8",
   "metadata": {},
   "source": [
    "Alternative **b)** We need solve the equation **(3)**, so we use the Binary search method, for this we will denote two arbitrary points as guess:"
   ]
  },
  {
   "cell_type": "code",
   "execution_count": 10,
   "id": "fd3a5a40-8c00-4bb0-908c-7cae8060ecdf",
   "metadata": {},
   "outputs": [
    {
     "name": "stdout",
     "output_type": "stream",
     "text": [
      "x = 4.965114116668701\n"
     ]
    }
   ],
   "source": [
    "def equation(x):\n",
    "    return 5*np.exp(-x)+x-5\n",
    "\n",
    "def recursive(x1, x2, f1, f2):\n",
    "\n",
    "    accuracy = 1e-6\n",
    "    \n",
    "    if f1*f2 < 0:\n",
    "        while (abs(x1-x2) > accuracy):\n",
    "            midpoint = (x1+x2)/2\n",
    "            f_mid = equation(midpoint)\n",
    "            \n",
    "            if f1*f_mid > 0:\n",
    "                x1 = midpoint\n",
    "            else:\n",
    "                x2 = midpoint\n",
    "                \n",
    "        result = (x1+x2)/2\n",
    "    else:\n",
    "        if abs(x1-x2) > accuracy:\n",
    "            x1, x2 = x1/2, x2/2\n",
    "            recursive(x1, x2, f1, f2)\n",
    "        else:\n",
    "            result = (x1+x2)/2\n",
    "    return result\n",
    "    \n",
    "x1, x2 = 4, 8\n",
    "f1, f2 = equation(x1), equation(x2)\n",
    "\n",
    "result = recursive(x1, x2, f1, f2)\n",
    "\n",
    "print(f'x = {result}')"
   ]
  },
  {
   "cell_type": "markdown",
   "id": "04ce3335-7b20-4eb7-ad7a-92b90e20932a",
   "metadata": {},
   "source": [
    "Now we have the value of **x**, so will go calculate the Wien's constant:"
   ]
  },
  {
   "cell_type": "markdown",
   "id": "32ab9c36-251f-4dbb-9a9b-2febec9a5eda",
   "metadata": {},
   "source": [
    "$$ x = \\frac{hc}{\\lambda k_{B}T} \\hspace{1cm} and \\hspace{1cm} b = \\lambda T, \\hspace{1cm} so \\hspace{1cm} b = \\frac{hc}{xk_{B}} \\tag{4}$$"
   ]
  },
  {
   "cell_type": "code",
   "execution_count": 12,
   "id": "180592aa-b270-4ad1-9efa-d1c44b222b89",
   "metadata": {},
   "outputs": [
    {
     "name": "stdout",
     "output_type": "stream",
     "text": [
      "b = 0.00290111 mK\n"
     ]
    }
   ],
   "source": [
    "h = 6.626e-34    # m2 Kg/ s\n",
    "c = 3e+8         # m/s\n",
    "kb = 1.38e-23    # m2 Kg/ s2 K\n",
    "x = result\n",
    "\n",
    "b = h*c/(x*kb)\n",
    "print(f'b = {b:.8f} mK')"
   ]
  },
  {
   "cell_type": "markdown",
   "id": "113f25b5-e291-470d-b820-2734bb04bab7",
   "metadata": {},
   "source": [
    "We needed multiply by 1000 for unit manipulation"
   ]
  },
  {
   "cell_type": "markdown",
   "id": "75b5fc56-450d-436d-8377-59dd85d859b8",
   "metadata": {},
   "source": [
    "Alternative **c)** Estimating the temperature of the sun using the second equation in **(4)**:"
   ]
  },
  {
   "cell_type": "code",
   "execution_count": 13,
   "id": "96c47823-a839-4fc4-8ece-d04e54b6d509",
   "metadata": {},
   "outputs": [
    {
     "name": "stdout",
     "output_type": "stream",
     "text": [
      "Temperature: 5779 K\n"
     ]
    }
   ],
   "source": [
    "lamb = 502e-9\n",
    "T = b/lamb\n",
    "\n",
    "print(f'Temperature: {T:.0f} K')"
   ]
  },
  {
   "cell_type": "code",
   "execution_count": null,
   "id": "c8af7a70-c63b-48d7-8a53-eeb311e389cf",
   "metadata": {},
   "outputs": [],
   "source": []
  }
 ],
 "metadata": {
  "kernelspec": {
   "display_name": "Python 3 (ipykernel)",
   "language": "python",
   "name": "python3"
  },
  "language_info": {
   "codemirror_mode": {
    "name": "ipython",
    "version": 3
   },
   "file_extension": ".py",
   "mimetype": "text/x-python",
   "name": "python",
   "nbconvert_exporter": "python",
   "pygments_lexer": "ipython3",
   "version": "3.11.7"
  }
 },
 "nbformat": 4,
 "nbformat_minor": 5
}
