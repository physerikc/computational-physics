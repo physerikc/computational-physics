{
 "cells": [
  {
   "cell_type": "markdown",
   "id": "bee99e0a-f4d1-416a-9677-65c7b32e3811",
   "metadata": {},
   "source": [
    "**Problema 1 - Fatorial**"
   ]
  },
  {
   "cell_type": "code",
   "execution_count": 1,
   "id": "baba2dbf-8397-428b-989b-4241c8591d9b",
   "metadata": {},
   "outputs": [
    {
     "name": "stdout",
     "output_type": "stream",
     "text": [
      "788657867364790503552363213932185062295135977687173263294742533244359449963403342920304284011984623904177212138919638830257642790242637105061926624952829931113462857270763317237396988943922445621451664240254033291864131227428294853277524242407573903240321257405579568660226031904170324062351700858796178922222789623703897374720000000000000000000000000000000000000000000000000\n"
     ]
    }
   ],
   "source": [
    "def fatorial(num):\n",
    "  if num > 1:\n",
    "    return num*fatorial(num-1)\n",
    "  else:\n",
    "    return num\n",
    "\n",
    "num = 200\n",
    "print(fatorial(num))"
   ]
  },
  {
   "cell_type": "code",
   "execution_count": 2,
   "id": "71d9822b-1277-460a-8f14-8cb8bbdc2010",
   "metadata": {},
   "outputs": [
    {
     "name": "stdout",
     "output_type": "stream",
     "text": [
      "inf\n"
     ]
    }
   ],
   "source": [
    "def fatorial(num):\n",
    "  if num > 1:\n",
    "    return num*fatorial(num-1)\n",
    "  else:\n",
    "    return num\n",
    "\n",
    "num = 200.0\n",
    "print(fatorial(num))"
   ]
  },
  {
   "cell_type": "markdown",
   "id": "c2045e19-2c59-4d34-abf8-5012af6ee829",
   "metadata": {},
   "source": [
    "o programa está reconhecendo como um número infinito, acredito que o armazenamento de memória para números flutuantes seja maior, logo o número ultrapassou a memória de armazenamento e por isso deve ter sido considerado infinito."
   ]
  },
  {
   "cell_type": "markdown",
   "id": "3e3510d3-fb3b-49dc-a361-c57b004d9d45",
   "metadata": {},
   "source": [
    "**Problema 2 - Equacoes quadraticas**"
   ]
  },
  {
   "cell_type": "code",
   "execution_count": 3,
   "id": "d7e5272c-88b8-4304-9c9c-381af6175f50",
   "metadata": {},
   "outputs": [
    {
     "name": "stdin",
     "output_type": "stream",
     "text": [
      "a:  1\n",
      "b:  2\n",
      "c:  1\n"
     ]
    },
    {
     "name": "stdout",
     "output_type": "stream",
     "text": [
      "-1.0\n",
      "-1.0\n"
     ]
    }
   ],
   "source": [
    "import numpy as np\n",
    "\n",
    "a = float(input('a: '))\n",
    "b = float(input('b: '))\n",
    "c = float(input('c: '))\n",
    "\n",
    "delta = b**2-(4*a*c)\n",
    "\n",
    "x1 = (-b/(2*a))+(np.sqrt(delta)/(2*a))\n",
    "x2 = (-b/(2*a))-(np.sqrt(delta)/(2*a))\n",
    "\n",
    "print(x1)\n",
    "print(x2)"
   ]
  },
  {
   "cell_type": "markdown",
   "id": "e696aeae-7a61-4aa4-b97a-4b358e4a0ae9",
   "metadata": {},
   "source": [
    "encontrrei resultados próximos, porém diferentes."
   ]
  },
  {
   "cell_type": "code",
   "execution_count": 4,
   "id": "0404521c-38f1-4786-9440-f976ef72d2ea",
   "metadata": {},
   "outputs": [
    {
     "name": "stdout",
     "output_type": "stream",
     "text": [
      "[-1.+6.68896751e-09j -1.-6.68896751e-09j]\n"
     ]
    }
   ],
   "source": [
    "coeff = np.array([a, b, c])\n",
    "polinomio = np.poly1d(coeff)\n",
    "raizes = np.roots(polinomio)\n",
    "\n",
    "print(raizes)"
   ]
  },
  {
   "cell_type": "markdown",
   "id": "3ea09f7d-f952-448f-b454-eeac7374192a",
   "metadata": {},
   "source": [
    "**Problema 3 - Calculando derivadas**"
   ]
  },
  {
   "cell_type": "code",
   "execution_count": 5,
   "id": "c0617712-0d8b-46ac-b98c-d40c817a7f22",
   "metadata": {},
   "outputs": [
    {
     "name": "stdout",
     "output_type": "stream",
     "text": [
      "1.100000000000001\n"
     ]
    }
   ],
   "source": [
    "import numpy as np\n",
    "\n",
    "def func(x):\n",
    "  return x*(x-1)\n",
    "\n",
    "delt = 10e-2\n",
    "\n",
    "x = 1\n",
    "\n",
    "dfdx = (func(x+delt)-func(x))/delt\n",
    "\n",
    "print(dfdx)"
   ]
  },
  {
   "cell_type": "markdown",
   "id": "a622accd-d96b-4fd3-a04a-be2fa4bd66b1",
   "metadata": {},
   "source": [
    "o valor correto é 1. pois f'(x) = 2x-1 então f'(1) = 1. O valor possui uma diferença do esperado justamente porque o valor de delta não está tendendo a zero infinitamente. Vamos repetir o procedimento para outros valores:"
   ]
  },
  {
   "cell_type": "code",
   "execution_count": 6,
   "id": "33f9104d-898d-43aa-8488-4844a1eb4ae0",
   "metadata": {},
   "outputs": [
    {
     "name": "stdout",
     "output_type": "stream",
     "text": [
      "1.0009999999998895\n",
      "1.0000100000065513\n",
      "1.0000001005838672\n",
      "1.000000083740371\n",
      "1.000000082750371\n",
      "0.9992007221627407\n"
     ]
    }
   ],
   "source": [
    "def derivada(delt, x):\n",
    "  return (func(x+delt)-func(x))/delt\n",
    "\n",
    "arr = np.array([10e-4, 10e-6, 10e-8, 10e-10, 10e-12, 10e-14])\n",
    "\n",
    "for value in arr:\n",
    "  print(derivada(value, x))"
   ]
  },
  {
   "cell_type": "markdown",
   "id": "38592d50-6b16-4293-8497-df2e32958353",
   "metadata": {},
   "source": [
    "vemos que quanto mais o valor de delta tende a zero, melhor se torna a aproximação para derivada"
   ]
  },
  {
   "cell_type": "markdown",
   "id": "d90aef3b-d075-4ee9-8068-c50dfe9667dd",
   "metadata": {},
   "source": [
    "**Problema 4 - valocidade de particula**"
   ]
  },
  {
   "cell_type": "code",
   "execution_count": 8,
   "id": "10bcaa2e-93e3-450d-9f9d-a61398bed519",
   "metadata": {},
   "outputs": [
    {
     "name": "stdout",
     "output_type": "stream",
     "text": [
      "8.134596999999975\n"
     ]
    }
   ],
   "source": [
    "import math\n",
    "import matplotlib.pyplot as plt\n",
    "\n",
    "data = np.loadtxt('velocities.txt')\n",
    "\n",
    "time = data[:,0]\n",
    "vel = data[:,1]\n",
    "\n",
    "N = 200\n",
    "tamTime = len(time)\n",
    "tamVel = len(vel)\n",
    "\n",
    "a, b = time[0], time[tamTime-1]\n",
    "\n",
    "x = (b-a)/N\n",
    "\n",
    "somat = 0\n",
    "for i in range(1, N):\n",
    "  ponto = math.floor(time[0]+i*x)\n",
    "  somat += vel[ponto]\n",
    "\n",
    "At = (x/2)*(vel[0] + vel[tamVel-1] + 2*somat)\n",
    "\n",
    "print(At)"
   ]
  },
  {
   "cell_type": "code",
   "execution_count": 9,
   "id": "8de994a3-d2c3-437e-9c73-e1d86f50e344",
   "metadata": {},
   "outputs": [
    {
     "data": {
      "image/png": "[encoded data removed]",
      "text/plain": [
       "<Figure size 640x480 with 1 Axes>"
      ]
     },
     "metadata": {},
     "output_type": "display_data"
    }
   ],
   "source": [
    "plt.plot(time, vel)\n",
    "plt.show()"
   ]
  },
  {
   "cell_type": "markdown",
   "id": "65a622e5-416d-4383-90e9-75d5f1d20203",
   "metadata": {},
   "source": [
    "**Problema 5 - calcular o valor de integral**"
   ]
  },
  {
   "cell_type": "code",
   "execution_count": 11,
   "id": "8fa4bea1-7507-4984-816b-78192e6ad6d0",
   "metadata": {},
   "outputs": [
    {
     "name": "stdout",
     "output_type": "stream",
     "text": [
      "trap: 4.400010666665602 and simp: 4.3999999919962685\n"
     ]
    }
   ],
   "source": [
    "import numpy as np\n",
    "\n",
    "def func(x):\n",
    "  return x**4-2*x+1\n",
    "\n",
    "N = 1000\n",
    "a, b = 0, 2\n",
    "\n",
    "h = (b-a)/N\n",
    "\n",
    "# regra do trapezio N = 10\n",
    "\n",
    "soma = 0\n",
    "for k in range(1, N+1):\n",
    "  xk = a + (k)*h\n",
    "  xk_1 = a + (k-1)*h\n",
    "\n",
    "  soma += func(xk_1)+func(xk)\n",
    "res_trap = (h/2)*soma\n",
    "\n",
    "# regra de simpson N = 10\n",
    "\n",
    "delta = 10e-4\n",
    "def derivada(delt, x):\n",
    "  return (func(x+delt)-func(x))/delt\n",
    "\n",
    "term = derivada(delta, a)-derivada(delta, b)\n",
    "\n",
    "res_simp = res_trap + (1/12)*(h**2)*term\n",
    "\n",
    "print(f'trap: {res_trap} and simp: {res_simp}')"
   ]
  },
  {
   "cell_type": "code",
   "execution_count": 12,
   "id": "0b18ea63-c102-4889-b7b5-1bb6c1c22fae",
   "metadata": {},
   "outputs": [
    {
     "name": "stdout",
     "output_type": "stream",
     "text": [
      "trap: 4.400010666665602 and simp: 4.3999999919962685\n",
      "\n",
      "erro trap: 1.8190300377085578e-07% e erro simp: 1.8190300377085578e-07%\n"
     ]
    }
   ],
   "source": [
    "erro_trap_N10 = 1-4.4/res_trap\n",
    "erro_simp_N10 = 1-4.4/res_simp\n",
    "\n",
    "print(f'trap: {res_trap} and simp: {res_simp}\\n')\n",
    "print(f'erro trap: {abs(100*erro_simp_N10)}% e erro simp: {abs(100*erro_simp_N10)}%')"
   ]
  },
  {
   "cell_type": "code",
   "execution_count": 13,
   "id": "7f3e8d9f-39da-4a5c-ae19-0b0d3c04f21f",
   "metadata": {},
   "outputs": [
    {
     "name": "stdout",
     "output_type": "stream",
     "text": [
      "trap: 4.400010666665602 and simp: 4.3999999919962685\n",
      "\n",
      "erro trap: 1.8190300377085578e-07% e erro simp: 1.8190300377085578e-07\n"
     ]
    }
   ],
   "source": [
    "# o N acima deve ser mudado para 100\n",
    "\n",
    "erro_trap_N100 = 1-4.4/res_trap\n",
    "erro_simp_N100 = 1-4.4/res_simp\n",
    "\n",
    "print(f'trap: {res_trap} and simp: {res_simp}\\n')\n",
    "print(f'erro trap: {abs(100*erro_simp_N100)}% e erro simp: {abs(100*erro_simp_N100)}')"
   ]
  },
  {
   "cell_type": "code",
   "execution_count": 14,
   "id": "e793b62d-a05c-432c-9e82-24ebfd555224",
   "metadata": {},
   "outputs": [
    {
     "name": "stdout",
     "output_type": "stream",
     "text": [
      "trap: 4.400010666665602 and simp: 4.3999999919962685\n",
      "\n",
      "erro trap: 1.8190300377085578e-07% e erro simp: 1.8190300377085578e-07\n"
     ]
    }
   ],
   "source": [
    "# o N acima deve ser mudado para 1000\n",
    "\n",
    "erro_trap_N1000 = 1-4.4/res_trap\n",
    "erro_simp_N1000 = 1-4.4/res_simp\n",
    "\n",
    "print(f'trap: {res_trap} and simp: {res_simp}\\n')\n",
    "print(f'erro trap: {abs(100*erro_simp_N1000)}% e erro simp: {abs(100*erro_simp_N1000)}')"
   ]
  },
  {
   "cell_type": "markdown",
   "id": "ea2d7156-c048-46fa-b571-d92533a3fda7",
   "metadata": {},
   "source": [
    "No exemplo 5.1 do Newman, para trapezio N = 100 temos 4.40107 enquanto usando Simpson temos 4.399991962666667, erro de 1.826e-4.\r\n",
    "\r\n",
    "Já para trapezio N = 1000 temos 4.40107 enquanto usando Simpson temos 4.3999999919962685, erro de 1.819e-07.\r\n",
    "\r\n",
    "Ou seja, ao aumentar o valor de N reduzimos 3 ordens de grandezas para o erro fracional."
   ]
  },
  {
   "cell_type": "code",
   "execution_count": null,
   "id": "4566b8f4-9d59-4285-9f9b-3cf1af58c375",
   "metadata": {},
   "outputs": [],
   "source": []
  }
 ],
 "metadata": {
  "kernelspec": {
   "display_name": "Python 3 (ipykernel)",
   "language": "python",
   "name": "python3"
  },
  "language_info": {
   "codemirror_mode": {
    "name": "ipython",
    "version": 3
   },
   "file_extension": ".py",
   "mimetype": "text/x-python",
   "name": "python",
   "nbconvert_exporter": "python",
   "pygments_lexer": "ipython3",
   "version": "3.11.7"
  }
 },
 "nbformat": 4,
 "nbformat_minor": 5
}
