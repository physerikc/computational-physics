{
 "cells": [
  {
   "cell_type": "code",
   "execution_count": 39,
   "id": "9c76cd38-e9ee-4bf7-bc80-36da9cdafeb8",
   "metadata": {},
   "outputs": [],
   "source": [
    "from numpy import array, empty, linalg\n",
    "import numpy as np"
   ]
  },
  {
   "cell_type": "markdown",
   "id": "3220a656-01f8-44b9-8f5a-a9e9ea901157",
   "metadata": {},
   "source": [
    "### PROBLEM 1 - Resistors circuit"
   ]
  },
  {
   "cell_type": "markdown",
   "id": "33fe5693-90cd-4c1c-8c54-d60e18d4c0f2",
   "metadata": {},
   "source": [
    "Alternative **a)** using the Kirchhoff's law to obtain others equations and knowing that $(V_{0} = 0)$:"
   ]
  },
  {
   "cell_type": "markdown",
   "id": "48c5c70c-7a06-458c-8b24-45aa8a8b690a",
   "metadata": {},
   "source": [
    "$$ \\frac{V_{2} - V_{0}}{R} + \\frac{V_{2} - V_{4}}{R} + \\frac{V_{2} - V_{1}}{R} = 0$$"
   ]
  },
  {
   "cell_type": "markdown",
   "id": "8d792e4d-3de9-4666-81e1-7e3329a1160d",
   "metadata": {},
   "source": [
    "$$ -V_{1} + 3V_{2} +0V_{3} - V_{4} = 0 \\tag {1}$$"
   ]
  },
  {
   "cell_type": "markdown",
   "id": "ed7622e5-816d-416f-8288-a3ad5bac5137",
   "metadata": {},
   "source": [
    "$$ \\frac{V_{3} - V_{4}}{R} + \\frac{V_{3} - V_{1}}{R} + \\frac{V_{3} - V_{+}}{R} = 0$$"
   ]
  },
  {
   "cell_type": "markdown",
   "id": "811822e1-ae76-49ab-b96a-613699821390",
   "metadata": {},
   "source": [
    "$$ -V_{1} + 0V_{2} +3V_{3} - V_{4} = V_{+} \\tag {2}$$"
   ]
  },
  {
   "cell_type": "markdown",
   "id": "2e4fe1b8-ad40-40b0-a974-2f7cc37004a9",
   "metadata": {},
   "source": [
    "$$ \\frac{V_{4} - V_{0}}{R} + \\frac{V_{4} - V_{1}}{R} + \\frac{V_{4} - V_{3}}{R} + \\frac{V_{4} - V_{2}}{R}= 0$$"
   ]
  },
  {
   "cell_type": "markdown",
   "id": "2f596e19-51e5-49c7-a31b-0d2f5b9d4c11",
   "metadata": {},
   "source": [
    "$$ -V_{1} -V_{2} -V_{3} + 4V_{4} = 0 \\tag{3}$$"
   ]
  },
  {
   "cell_type": "markdown",
   "id": "fb668dc5-d98e-4d37-bbc2-828c076d21df",
   "metadata": {},
   "source": [
    "The fourth equation $\\ 4V_{1} -V_{2} -V_{3} -V_{4} = V_{+}\\ $  is in pdf of the list "
   ]
  },
  {
   "cell_type": "markdown",
   "id": "157cd797-87b0-49ac-9983-127cf6599040",
   "metadata": {},
   "source": [
    "Putting the indices of equations in the matriz A and knowing that $(V_{+} = 0)$:"
   ]
  },
  {
   "cell_type": "code",
   "execution_count": 36,
   "id": "ae64d04c-207b-44b6-86f9-2562a128b30b",
   "metadata": {},
   "outputs": [],
   "source": [
    "A = array([[4, -1, -1, -1], \n",
    "           [-1, 3, 0, -1], \n",
    "           [-1, 0, 3, -1], \n",
    "           [-1, -1, -1, 4]], float)\n",
    "v = array([5, 0, 5, 0], float)\n",
    "N = len(v)"
   ]
  },
  {
   "cell_type": "markdown",
   "id": "24f3f1e0-8dc0-468a-a9ea-b1fd49dbd7c2",
   "metadata": {},
   "source": [
    "Alternative **b)** Solving the matriz with Gauss' elimination:"
   ]
  },
  {
   "cell_type": "code",
   "execution_count": 47,
   "id": "cb79803f-a2ac-4941-a6f0-3a5413672b88",
   "metadata": {},
   "outputs": [
    {
     "name": "stdout",
     "output_type": "stream",
     "text": [
      "Solution: [3.         1.66666667 3.33333333 2.        ]\n"
     ]
    }
   ],
   "source": [
    "for m in range(N):\n",
    "    div = A[m, m]\n",
    "    A[m, :] /= div\n",
    "    v[m] /= div\n",
    "\n",
    "    for i in range(m+1, N):\n",
    "        mult = A[i, m]\n",
    "        A[i, :] -= mult*A[m, :]\n",
    "        v[i] -= mult*v[m]\n",
    "\n",
    "vs = empty(N, float)\n",
    "for m in range(N-1, -1, -1):\n",
    "    vs[m] = v[m]\n",
    "    \n",
    "    for i in  range(m+1, N):\n",
    "        vs[m] -= A[m, i]*vs[i] \n",
    "\n",
    "print(f'Solution: {vs}')"
   ]
  },
  {
   "cell_type": "markdown",
   "id": "33def724-43b6-4542-a7c7-388e5b4cd789",
   "metadata": {},
   "source": [
    "Alternative **c)** Using the linalg.solve function by numpy library, we have:"
   ]
  },
  {
   "cell_type": "code",
   "execution_count": 49,
   "id": "38a0d9b8-80b7-4fb5-8b7f-9687eb0e0140",
   "metadata": {},
   "outputs": [
    {
     "name": "stdout",
     "output_type": "stream",
     "text": [
      "Solution: [3.         1.66666667 3.33333333 2.        ]\n"
     ]
    }
   ],
   "source": [
    "Gausslinalg = np.linalg.solve(A, v)\n",
    "print(f'Solution: {Gausslinalg}')"
   ]
  },
  {
   "cell_type": "markdown",
   "id": "410295b0-c1bc-4ddc-b747-4f016872f7df",
   "metadata": {},
   "source": [
    "### PROBLEM 2 - Include the pivotiozation mathod"
   ]
  },
  {
   "cell_type": "code",
   "execution_count": null,
   "id": "7933fead-4e9d-4c59-87cb-dd500438b49f",
   "metadata": {},
   "outputs": [],
   "source": []
  }
 ],
 "metadata": {
  "kernelspec": {
   "display_name": "Python 3 (ipykernel)",
   "language": "python",
   "name": "python3"
  },
  "language_info": {
   "codemirror_mode": {
    "name": "ipython",
    "version": 3
   },
   "file_extension": ".py",
   "mimetype": "text/x-python",
   "name": "python",
   "nbconvert_exporter": "python",
   "pygments_lexer": "ipython3",
   "version": "3.11.7"
  }
 },
 "nbformat": 4,
 "nbformat_minor": 5
}
